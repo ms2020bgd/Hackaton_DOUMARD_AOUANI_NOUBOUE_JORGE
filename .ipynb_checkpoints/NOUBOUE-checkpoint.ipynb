{
 "cells": [
  {
   "cell_type": "code",
   "execution_count": 1,
   "metadata": {
    "slideshow": {
     "slide_type": "slide"
    }
   },
   "outputs": [],
   "source": [
    "import pandas as pd"
   ]
  },
  {
   "cell_type": "markdown",
   "metadata": {
    "slideshow": {
     "slide_type": "fragment"
    }
   },
   "source": [
    "# <center><u> GDP :</u></center>"
   ]
  },
  {
   "cell_type": "code",
   "execution_count": 3,
   "metadata": {
    "slideshow": {
     "slide_type": "fragment"
    }
   },
   "outputs": [],
   "source": [
    "data = pd.read_csv('data/API_EG.ELC.ACCS.ZS_DS2_en_csv_v2_427235.csv', skiprows=4)"
   ]
  },
  {
   "cell_type": "code",
   "execution_count": 8,
   "metadata": {
    "slideshow": {
     "slide_type": "fragment"
    }
   },
   "outputs": [],
   "source": [
    "df_GDP = pd.read_csv('data/API_NY.GDP.MKTP.CD_DS2_en_csv_v2_422026.csv', skiprows=4)"
   ]
  },
  {
   "cell_type": "code",
   "execution_count": 9,
   "metadata": {
    "slideshow": {
     "slide_type": "fragment"
    }
   },
   "outputs": [
    {
     "data": {
      "text/html": [
       "<div>\n",
       "<style scoped>\n",
       "    .dataframe tbody tr th:only-of-type {\n",
       "        vertical-align: middle;\n",
       "    }\n",
       "\n",
       "    .dataframe tbody tr th {\n",
       "        vertical-align: top;\n",
       "    }\n",
       "\n",
       "    .dataframe thead th {\n",
       "        text-align: right;\n",
       "    }\n",
       "</style>\n",
       "<table border=\"1\" class=\"dataframe\">\n",
       "  <thead>\n",
       "    <tr style=\"text-align: right;\">\n",
       "      <th></th>\n",
       "      <th>Country Name</th>\n",
       "      <th>Country Code</th>\n",
       "      <th>Indicator Name</th>\n",
       "      <th>Indicator Code</th>\n",
       "      <th>1960</th>\n",
       "      <th>1961</th>\n",
       "      <th>1962</th>\n",
       "      <th>1963</th>\n",
       "      <th>1964</th>\n",
       "      <th>1965</th>\n",
       "      <th>...</th>\n",
       "      <th>2011</th>\n",
       "      <th>2012</th>\n",
       "      <th>2013</th>\n",
       "      <th>2014</th>\n",
       "      <th>2015</th>\n",
       "      <th>2016</th>\n",
       "      <th>2017</th>\n",
       "      <th>2018</th>\n",
       "      <th>2019</th>\n",
       "      <th>Unnamed: 64</th>\n",
       "    </tr>\n",
       "  </thead>\n",
       "  <tbody>\n",
       "    <tr>\n",
       "      <th>0</th>\n",
       "      <td>Aruba</td>\n",
       "      <td>ABW</td>\n",
       "      <td>GDP (current US$)</td>\n",
       "      <td>NY.GDP.MKTP.CD</td>\n",
       "      <td>NaN</td>\n",
       "      <td>NaN</td>\n",
       "      <td>NaN</td>\n",
       "      <td>NaN</td>\n",
       "      <td>NaN</td>\n",
       "      <td>NaN</td>\n",
       "      <td>...</td>\n",
       "      <td>2.549721e+09</td>\n",
       "      <td>2.534637e+09</td>\n",
       "      <td>2.581564e+09</td>\n",
       "      <td>2.649721e+09</td>\n",
       "      <td>2.691620e+09</td>\n",
       "      <td>2.646927e+09</td>\n",
       "      <td>2.700559e+09</td>\n",
       "      <td>NaN</td>\n",
       "      <td>NaN</td>\n",
       "      <td>NaN</td>\n",
       "    </tr>\n",
       "    <tr>\n",
       "      <th>1</th>\n",
       "      <td>Afghanistan</td>\n",
       "      <td>AFG</td>\n",
       "      <td>GDP (current US$)</td>\n",
       "      <td>NY.GDP.MKTP.CD</td>\n",
       "      <td>5.377778e+08</td>\n",
       "      <td>5.488889e+08</td>\n",
       "      <td>5.466667e+08</td>\n",
       "      <td>7.511112e+08</td>\n",
       "      <td>8.000000e+08</td>\n",
       "      <td>1.006667e+09</td>\n",
       "      <td>...</td>\n",
       "      <td>1.780428e+10</td>\n",
       "      <td>2.000162e+10</td>\n",
       "      <td>2.056105e+10</td>\n",
       "      <td>2.048487e+10</td>\n",
       "      <td>1.990711e+10</td>\n",
       "      <td>1.936264e+10</td>\n",
       "      <td>2.019176e+10</td>\n",
       "      <td>1.936297e+10</td>\n",
       "      <td>NaN</td>\n",
       "      <td>NaN</td>\n",
       "    </tr>\n",
       "    <tr>\n",
       "      <th>2</th>\n",
       "      <td>Angola</td>\n",
       "      <td>AGO</td>\n",
       "      <td>GDP (current US$)</td>\n",
       "      <td>NY.GDP.MKTP.CD</td>\n",
       "      <td>NaN</td>\n",
       "      <td>NaN</td>\n",
       "      <td>NaN</td>\n",
       "      <td>NaN</td>\n",
       "      <td>NaN</td>\n",
       "      <td>NaN</td>\n",
       "      <td>...</td>\n",
       "      <td>1.117897e+11</td>\n",
       "      <td>1.280529e+11</td>\n",
       "      <td>1.367099e+11</td>\n",
       "      <td>1.457122e+11</td>\n",
       "      <td>1.161936e+11</td>\n",
       "      <td>1.011239e+11</td>\n",
       "      <td>1.221238e+11</td>\n",
       "      <td>1.057510e+11</td>\n",
       "      <td>NaN</td>\n",
       "      <td>NaN</td>\n",
       "    </tr>\n",
       "    <tr>\n",
       "      <th>3</th>\n",
       "      <td>Albania</td>\n",
       "      <td>ALB</td>\n",
       "      <td>GDP (current US$)</td>\n",
       "      <td>NY.GDP.MKTP.CD</td>\n",
       "      <td>NaN</td>\n",
       "      <td>NaN</td>\n",
       "      <td>NaN</td>\n",
       "      <td>NaN</td>\n",
       "      <td>NaN</td>\n",
       "      <td>NaN</td>\n",
       "      <td>...</td>\n",
       "      <td>1.289087e+10</td>\n",
       "      <td>1.231978e+10</td>\n",
       "      <td>1.277628e+10</td>\n",
       "      <td>1.322825e+10</td>\n",
       "      <td>1.138693e+10</td>\n",
       "      <td>1.186135e+10</td>\n",
       "      <td>1.302506e+10</td>\n",
       "      <td>1.505888e+10</td>\n",
       "      <td>NaN</td>\n",
       "      <td>NaN</td>\n",
       "    </tr>\n",
       "    <tr>\n",
       "      <th>4</th>\n",
       "      <td>Andorra</td>\n",
       "      <td>AND</td>\n",
       "      <td>GDP (current US$)</td>\n",
       "      <td>NY.GDP.MKTP.CD</td>\n",
       "      <td>NaN</td>\n",
       "      <td>NaN</td>\n",
       "      <td>NaN</td>\n",
       "      <td>NaN</td>\n",
       "      <td>NaN</td>\n",
       "      <td>NaN</td>\n",
       "      <td>...</td>\n",
       "      <td>3.442063e+09</td>\n",
       "      <td>3.164615e+09</td>\n",
       "      <td>3.281585e+09</td>\n",
       "      <td>3.350736e+09</td>\n",
       "      <td>2.811489e+09</td>\n",
       "      <td>2.877312e+09</td>\n",
       "      <td>3.013387e+09</td>\n",
       "      <td>3.236544e+09</td>\n",
       "      <td>NaN</td>\n",
       "      <td>NaN</td>\n",
       "    </tr>\n",
       "  </tbody>\n",
       "</table>\n",
       "<p>5 rows × 65 columns</p>\n",
       "</div>"
      ],
      "text/plain": [
       "  Country Name Country Code     Indicator Name  Indicator Code          1960  \\\n",
       "0        Aruba          ABW  GDP (current US$)  NY.GDP.MKTP.CD           NaN   \n",
       "1  Afghanistan          AFG  GDP (current US$)  NY.GDP.MKTP.CD  5.377778e+08   \n",
       "2       Angola          AGO  GDP (current US$)  NY.GDP.MKTP.CD           NaN   \n",
       "3      Albania          ALB  GDP (current US$)  NY.GDP.MKTP.CD           NaN   \n",
       "4      Andorra          AND  GDP (current US$)  NY.GDP.MKTP.CD           NaN   \n",
       "\n",
       "           1961          1962          1963          1964          1965  \\\n",
       "0           NaN           NaN           NaN           NaN           NaN   \n",
       "1  5.488889e+08  5.466667e+08  7.511112e+08  8.000000e+08  1.006667e+09   \n",
       "2           NaN           NaN           NaN           NaN           NaN   \n",
       "3           NaN           NaN           NaN           NaN           NaN   \n",
       "4           NaN           NaN           NaN           NaN           NaN   \n",
       "\n",
       "      ...               2011          2012          2013          2014  \\\n",
       "0     ...       2.549721e+09  2.534637e+09  2.581564e+09  2.649721e+09   \n",
       "1     ...       1.780428e+10  2.000162e+10  2.056105e+10  2.048487e+10   \n",
       "2     ...       1.117897e+11  1.280529e+11  1.367099e+11  1.457122e+11   \n",
       "3     ...       1.289087e+10  1.231978e+10  1.277628e+10  1.322825e+10   \n",
       "4     ...       3.442063e+09  3.164615e+09  3.281585e+09  3.350736e+09   \n",
       "\n",
       "           2015          2016          2017          2018  2019  Unnamed: 64  \n",
       "0  2.691620e+09  2.646927e+09  2.700559e+09           NaN   NaN          NaN  \n",
       "1  1.990711e+10  1.936264e+10  2.019176e+10  1.936297e+10   NaN          NaN  \n",
       "2  1.161936e+11  1.011239e+11  1.221238e+11  1.057510e+11   NaN          NaN  \n",
       "3  1.138693e+10  1.186135e+10  1.302506e+10  1.505888e+10   NaN          NaN  \n",
       "4  2.811489e+09  2.877312e+09  3.013387e+09  3.236544e+09   NaN          NaN  \n",
       "\n",
       "[5 rows x 65 columns]"
      ]
     },
     "execution_count": 9,
     "metadata": {},
     "output_type": "execute_result"
    }
   ],
   "source": [
    "df_GDP.head()"
   ]
  },
  {
   "cell_type": "code",
   "execution_count": 12,
   "metadata": {
    "slideshow": {
     "slide_type": "fragment"
    }
   },
   "outputs": [],
   "source": [
    "metadata_countries = pd.read_csv('data/Metadata_Country_API_EG.ELC.ACCS.ZS_DS2_en_csv_v2_427235.csv')"
   ]
  },
  {
   "cell_type": "code",
   "execution_count": 13,
   "metadata": {
    "slideshow": {
     "slide_type": "fragment"
    }
   },
   "outputs": [
    {
     "data": {
      "text/html": [
       "<div>\n",
       "<style scoped>\n",
       "    .dataframe tbody tr th:only-of-type {\n",
       "        vertical-align: middle;\n",
       "    }\n",
       "\n",
       "    .dataframe tbody tr th {\n",
       "        vertical-align: top;\n",
       "    }\n",
       "\n",
       "    .dataframe thead th {\n",
       "        text-align: right;\n",
       "    }\n",
       "</style>\n",
       "<table border=\"1\" class=\"dataframe\">\n",
       "  <thead>\n",
       "    <tr style=\"text-align: right;\">\n",
       "      <th></th>\n",
       "      <th>Country Code</th>\n",
       "      <th>Region</th>\n",
       "      <th>IncomeGroup</th>\n",
       "      <th>SpecialNotes</th>\n",
       "      <th>TableName</th>\n",
       "      <th>Unnamed: 5</th>\n",
       "    </tr>\n",
       "  </thead>\n",
       "  <tbody>\n",
       "    <tr>\n",
       "      <th>0</th>\n",
       "      <td>ABW</td>\n",
       "      <td>Latin America &amp; Caribbean</td>\n",
       "      <td>High income</td>\n",
       "      <td>NaN</td>\n",
       "      <td>Aruba</td>\n",
       "      <td>NaN</td>\n",
       "    </tr>\n",
       "    <tr>\n",
       "      <th>1</th>\n",
       "      <td>AFG</td>\n",
       "      <td>South Asia</td>\n",
       "      <td>Low income</td>\n",
       "      <td>NaN</td>\n",
       "      <td>Afghanistan</td>\n",
       "      <td>NaN</td>\n",
       "    </tr>\n",
       "    <tr>\n",
       "      <th>2</th>\n",
       "      <td>AGO</td>\n",
       "      <td>Sub-Saharan Africa</td>\n",
       "      <td>Lower middle income</td>\n",
       "      <td>NaN</td>\n",
       "      <td>Angola</td>\n",
       "      <td>NaN</td>\n",
       "    </tr>\n",
       "    <tr>\n",
       "      <th>3</th>\n",
       "      <td>ALB</td>\n",
       "      <td>Europe &amp; Central Asia</td>\n",
       "      <td>Upper middle income</td>\n",
       "      <td>NaN</td>\n",
       "      <td>Albania</td>\n",
       "      <td>NaN</td>\n",
       "    </tr>\n",
       "    <tr>\n",
       "      <th>4</th>\n",
       "      <td>AND</td>\n",
       "      <td>Europe &amp; Central Asia</td>\n",
       "      <td>High income</td>\n",
       "      <td>NaN</td>\n",
       "      <td>Andorra</td>\n",
       "      <td>NaN</td>\n",
       "    </tr>\n",
       "  </tbody>\n",
       "</table>\n",
       "</div>"
      ],
      "text/plain": [
       "  Country Code                     Region          IncomeGroup SpecialNotes  \\\n",
       "0          ABW  Latin America & Caribbean          High income          NaN   \n",
       "1          AFG                 South Asia           Low income          NaN   \n",
       "2          AGO         Sub-Saharan Africa  Lower middle income          NaN   \n",
       "3          ALB      Europe & Central Asia  Upper middle income          NaN   \n",
       "4          AND      Europe & Central Asia          High income          NaN   \n",
       "\n",
       "     TableName  Unnamed: 5  \n",
       "0        Aruba         NaN  \n",
       "1  Afghanistan         NaN  \n",
       "2       Angola         NaN  \n",
       "3      Albania         NaN  \n",
       "4      Andorra         NaN  "
      ]
     },
     "execution_count": 13,
     "metadata": {},
     "output_type": "execute_result"
    }
   ],
   "source": [
    "metadata_countries.head()"
   ]
  },
  {
   "cell_type": "code",
   "execution_count": 54,
   "metadata": {
    "slideshow": {
     "slide_type": "fragment"
    }
   },
   "outputs": [],
   "source": [
    "df = df_GDP.merge(metadata_countries, left_on='Country Code', right_on='Country Code')"
   ]
  },
  {
   "cell_type": "code",
   "execution_count": 55,
   "metadata": {
    "slideshow": {
     "slide_type": "fragment"
    }
   },
   "outputs": [
    {
     "data": {
      "text/html": [
       "<div>\n",
       "<style scoped>\n",
       "    .dataframe tbody tr th:only-of-type {\n",
       "        vertical-align: middle;\n",
       "    }\n",
       "\n",
       "    .dataframe tbody tr th {\n",
       "        vertical-align: top;\n",
       "    }\n",
       "\n",
       "    .dataframe thead th {\n",
       "        text-align: right;\n",
       "    }\n",
       "</style>\n",
       "<table border=\"1\" class=\"dataframe\">\n",
       "  <thead>\n",
       "    <tr style=\"text-align: right;\">\n",
       "      <th></th>\n",
       "      <th>Country Name</th>\n",
       "      <th>Country Code</th>\n",
       "      <th>Indicator Name</th>\n",
       "      <th>Indicator Code</th>\n",
       "      <th>1960</th>\n",
       "      <th>1961</th>\n",
       "      <th>1962</th>\n",
       "      <th>1963</th>\n",
       "      <th>1964</th>\n",
       "      <th>1965</th>\n",
       "      <th>...</th>\n",
       "      <th>2016</th>\n",
       "      <th>2017</th>\n",
       "      <th>2018</th>\n",
       "      <th>2019</th>\n",
       "      <th>Unnamed: 64</th>\n",
       "      <th>Region</th>\n",
       "      <th>IncomeGroup</th>\n",
       "      <th>SpecialNotes</th>\n",
       "      <th>TableName</th>\n",
       "      <th>Unnamed: 5</th>\n",
       "    </tr>\n",
       "  </thead>\n",
       "  <tbody>\n",
       "    <tr>\n",
       "      <th>0</th>\n",
       "      <td>Aruba</td>\n",
       "      <td>ABW</td>\n",
       "      <td>GDP (current US$)</td>\n",
       "      <td>NY.GDP.MKTP.CD</td>\n",
       "      <td>NaN</td>\n",
       "      <td>NaN</td>\n",
       "      <td>NaN</td>\n",
       "      <td>NaN</td>\n",
       "      <td>NaN</td>\n",
       "      <td>NaN</td>\n",
       "      <td>...</td>\n",
       "      <td>2.646927e+09</td>\n",
       "      <td>2.700559e+09</td>\n",
       "      <td>NaN</td>\n",
       "      <td>NaN</td>\n",
       "      <td>NaN</td>\n",
       "      <td>Latin America &amp; Caribbean</td>\n",
       "      <td>High income</td>\n",
       "      <td>NaN</td>\n",
       "      <td>Aruba</td>\n",
       "      <td>NaN</td>\n",
       "    </tr>\n",
       "    <tr>\n",
       "      <th>1</th>\n",
       "      <td>Afghanistan</td>\n",
       "      <td>AFG</td>\n",
       "      <td>GDP (current US$)</td>\n",
       "      <td>NY.GDP.MKTP.CD</td>\n",
       "      <td>5.377778e+08</td>\n",
       "      <td>5.488889e+08</td>\n",
       "      <td>5.466667e+08</td>\n",
       "      <td>7.511112e+08</td>\n",
       "      <td>8.000000e+08</td>\n",
       "      <td>1.006667e+09</td>\n",
       "      <td>...</td>\n",
       "      <td>1.936264e+10</td>\n",
       "      <td>2.019176e+10</td>\n",
       "      <td>1.936297e+10</td>\n",
       "      <td>NaN</td>\n",
       "      <td>NaN</td>\n",
       "      <td>South Asia</td>\n",
       "      <td>Low income</td>\n",
       "      <td>NaN</td>\n",
       "      <td>Afghanistan</td>\n",
       "      <td>NaN</td>\n",
       "    </tr>\n",
       "    <tr>\n",
       "      <th>2</th>\n",
       "      <td>Angola</td>\n",
       "      <td>AGO</td>\n",
       "      <td>GDP (current US$)</td>\n",
       "      <td>NY.GDP.MKTP.CD</td>\n",
       "      <td>NaN</td>\n",
       "      <td>NaN</td>\n",
       "      <td>NaN</td>\n",
       "      <td>NaN</td>\n",
       "      <td>NaN</td>\n",
       "      <td>NaN</td>\n",
       "      <td>...</td>\n",
       "      <td>1.011239e+11</td>\n",
       "      <td>1.221238e+11</td>\n",
       "      <td>1.057510e+11</td>\n",
       "      <td>NaN</td>\n",
       "      <td>NaN</td>\n",
       "      <td>Sub-Saharan Africa</td>\n",
       "      <td>Lower middle income</td>\n",
       "      <td>NaN</td>\n",
       "      <td>Angola</td>\n",
       "      <td>NaN</td>\n",
       "    </tr>\n",
       "    <tr>\n",
       "      <th>3</th>\n",
       "      <td>Albania</td>\n",
       "      <td>ALB</td>\n",
       "      <td>GDP (current US$)</td>\n",
       "      <td>NY.GDP.MKTP.CD</td>\n",
       "      <td>NaN</td>\n",
       "      <td>NaN</td>\n",
       "      <td>NaN</td>\n",
       "      <td>NaN</td>\n",
       "      <td>NaN</td>\n",
       "      <td>NaN</td>\n",
       "      <td>...</td>\n",
       "      <td>1.186135e+10</td>\n",
       "      <td>1.302506e+10</td>\n",
       "      <td>1.505888e+10</td>\n",
       "      <td>NaN</td>\n",
       "      <td>NaN</td>\n",
       "      <td>Europe &amp; Central Asia</td>\n",
       "      <td>Upper middle income</td>\n",
       "      <td>NaN</td>\n",
       "      <td>Albania</td>\n",
       "      <td>NaN</td>\n",
       "    </tr>\n",
       "    <tr>\n",
       "      <th>4</th>\n",
       "      <td>Andorra</td>\n",
       "      <td>AND</td>\n",
       "      <td>GDP (current US$)</td>\n",
       "      <td>NY.GDP.MKTP.CD</td>\n",
       "      <td>NaN</td>\n",
       "      <td>NaN</td>\n",
       "      <td>NaN</td>\n",
       "      <td>NaN</td>\n",
       "      <td>NaN</td>\n",
       "      <td>NaN</td>\n",
       "      <td>...</td>\n",
       "      <td>2.877312e+09</td>\n",
       "      <td>3.013387e+09</td>\n",
       "      <td>3.236544e+09</td>\n",
       "      <td>NaN</td>\n",
       "      <td>NaN</td>\n",
       "      <td>Europe &amp; Central Asia</td>\n",
       "      <td>High income</td>\n",
       "      <td>NaN</td>\n",
       "      <td>Andorra</td>\n",
       "      <td>NaN</td>\n",
       "    </tr>\n",
       "  </tbody>\n",
       "</table>\n",
       "<p>5 rows × 70 columns</p>\n",
       "</div>"
      ],
      "text/plain": [
       "  Country Name Country Code     Indicator Name  Indicator Code          1960  \\\n",
       "0        Aruba          ABW  GDP (current US$)  NY.GDP.MKTP.CD           NaN   \n",
       "1  Afghanistan          AFG  GDP (current US$)  NY.GDP.MKTP.CD  5.377778e+08   \n",
       "2       Angola          AGO  GDP (current US$)  NY.GDP.MKTP.CD           NaN   \n",
       "3      Albania          ALB  GDP (current US$)  NY.GDP.MKTP.CD           NaN   \n",
       "4      Andorra          AND  GDP (current US$)  NY.GDP.MKTP.CD           NaN   \n",
       "\n",
       "           1961          1962          1963          1964          1965  \\\n",
       "0           NaN           NaN           NaN           NaN           NaN   \n",
       "1  5.488889e+08  5.466667e+08  7.511112e+08  8.000000e+08  1.006667e+09   \n",
       "2           NaN           NaN           NaN           NaN           NaN   \n",
       "3           NaN           NaN           NaN           NaN           NaN   \n",
       "4           NaN           NaN           NaN           NaN           NaN   \n",
       "\n",
       "      ...              2016          2017          2018  2019  Unnamed: 64  \\\n",
       "0     ...      2.646927e+09  2.700559e+09           NaN   NaN          NaN   \n",
       "1     ...      1.936264e+10  2.019176e+10  1.936297e+10   NaN          NaN   \n",
       "2     ...      1.011239e+11  1.221238e+11  1.057510e+11   NaN          NaN   \n",
       "3     ...      1.186135e+10  1.302506e+10  1.505888e+10   NaN          NaN   \n",
       "4     ...      2.877312e+09  3.013387e+09  3.236544e+09   NaN          NaN   \n",
       "\n",
       "                      Region          IncomeGroup  SpecialNotes    TableName  \\\n",
       "0  Latin America & Caribbean          High income           NaN        Aruba   \n",
       "1                 South Asia           Low income           NaN  Afghanistan   \n",
       "2         Sub-Saharan Africa  Lower middle income           NaN       Angola   \n",
       "3      Europe & Central Asia  Upper middle income           NaN      Albania   \n",
       "4      Europe & Central Asia          High income           NaN      Andorra   \n",
       "\n",
       "   Unnamed: 5  \n",
       "0         NaN  \n",
       "1         NaN  \n",
       "2         NaN  \n",
       "3         NaN  \n",
       "4         NaN  \n",
       "\n",
       "[5 rows x 70 columns]"
      ]
     },
     "execution_count": 55,
     "metadata": {},
     "output_type": "execute_result"
    }
   ],
   "source": [
    "df.head()"
   ]
  },
  {
   "cell_type": "code",
   "execution_count": 56,
   "metadata": {
    "slideshow": {
     "slide_type": "fragment"
    }
   },
   "outputs": [],
   "source": [
    "df = df.groupby(['Region']).sum()"
   ]
  },
  {
   "cell_type": "code",
   "execution_count": 62,
   "metadata": {
    "slideshow": {
     "slide_type": "fragment"
    }
   },
   "outputs": [],
   "source": [
    "df = df.drop(['2019', 'Unnamed: 64', 'Unnamed: 5'], axis=1)"
   ]
  },
  {
   "cell_type": "code",
   "execution_count": 63,
   "metadata": {
    "slideshow": {
     "slide_type": "fragment"
    }
   },
   "outputs": [
    {
     "data": {
      "text/html": [
       "<div>\n",
       "<style scoped>\n",
       "    .dataframe tbody tr th:only-of-type {\n",
       "        vertical-align: middle;\n",
       "    }\n",
       "\n",
       "    .dataframe tbody tr th {\n",
       "        vertical-align: top;\n",
       "    }\n",
       "\n",
       "    .dataframe thead th {\n",
       "        text-align: right;\n",
       "    }\n",
       "</style>\n",
       "<table border=\"1\" class=\"dataframe\">\n",
       "  <thead>\n",
       "    <tr style=\"text-align: right;\">\n",
       "      <th></th>\n",
       "      <th>1960</th>\n",
       "      <th>1961</th>\n",
       "      <th>1962</th>\n",
       "      <th>1963</th>\n",
       "      <th>1964</th>\n",
       "      <th>1965</th>\n",
       "      <th>1966</th>\n",
       "      <th>1967</th>\n",
       "      <th>1968</th>\n",
       "      <th>1969</th>\n",
       "      <th>...</th>\n",
       "      <th>2009</th>\n",
       "      <th>2010</th>\n",
       "      <th>2011</th>\n",
       "      <th>2012</th>\n",
       "      <th>2013</th>\n",
       "      <th>2014</th>\n",
       "      <th>2015</th>\n",
       "      <th>2016</th>\n",
       "      <th>2017</th>\n",
       "      <th>2018</th>\n",
       "    </tr>\n",
       "    <tr>\n",
       "      <th>Region</th>\n",
       "      <th></th>\n",
       "      <th></th>\n",
       "      <th></th>\n",
       "      <th></th>\n",
       "      <th></th>\n",
       "      <th></th>\n",
       "      <th></th>\n",
       "      <th></th>\n",
       "      <th></th>\n",
       "      <th></th>\n",
       "      <th></th>\n",
       "      <th></th>\n",
       "      <th></th>\n",
       "      <th></th>\n",
       "      <th></th>\n",
       "      <th></th>\n",
       "      <th></th>\n",
       "      <th></th>\n",
       "      <th></th>\n",
       "      <th></th>\n",
       "      <th></th>\n",
       "    </tr>\n",
       "  </thead>\n",
       "  <tbody>\n",
       "    <tr>\n",
       "      <th>East Asia &amp; Pacific</th>\n",
       "      <td>1.464117e+11</td>\n",
       "      <td>1.466530e+11</td>\n",
       "      <td>1.499091e+11</td>\n",
       "      <td>1.672525e+11</td>\n",
       "      <td>1.921180e+11</td>\n",
       "      <td>2.144489e+11</td>\n",
       "      <td>2.397578e+11</td>\n",
       "      <td>2.652445e+11</td>\n",
       "      <td>2.920148e+11</td>\n",
       "      <td>3.363400e+11</td>\n",
       "      <td>...</td>\n",
       "      <td>1.410704e+13</td>\n",
       "      <td>1.645754e+13</td>\n",
       "      <td>1.911055e+13</td>\n",
       "      <td>2.047535e+13</td>\n",
       "      <td>2.069293e+13</td>\n",
       "      <td>2.130545e+13</td>\n",
       "      <td>2.118190e+13</td>\n",
       "      <td>2.187461e+13</td>\n",
       "      <td>2.329305e+13</td>\n",
       "      <td>2.527159e+13</td>\n",
       "    </tr>\n",
       "    <tr>\n",
       "      <th>Europe &amp; Central Asia</th>\n",
       "      <td>2.834935e+11</td>\n",
       "      <td>3.017402e+11</td>\n",
       "      <td>3.299221e+11</td>\n",
       "      <td>3.638094e+11</td>\n",
       "      <td>4.028910e+11</td>\n",
       "      <td>4.384373e+11</td>\n",
       "      <td>4.762716e+11</td>\n",
       "      <td>5.124271e+11</td>\n",
       "      <td>5.344567e+11</td>\n",
       "      <td>5.867793e+11</td>\n",
       "      <td>...</td>\n",
       "      <td>2.046299e+13</td>\n",
       "      <td>2.093713e+13</td>\n",
       "      <td>2.319850e+13</td>\n",
       "      <td>2.236120e+13</td>\n",
       "      <td>2.336925e+13</td>\n",
       "      <td>2.369537e+13</td>\n",
       "      <td>2.040889e+13</td>\n",
       "      <td>2.034983e+13</td>\n",
       "      <td>2.149848e+13</td>\n",
       "      <td>2.300117e+13</td>\n",
       "    </tr>\n",
       "    <tr>\n",
       "      <th>Latin America &amp; Caribbean</th>\n",
       "      <td>5.739650e+10</td>\n",
       "      <td>6.076983e+10</td>\n",
       "      <td>9.396298e+10</td>\n",
       "      <td>9.482963e+10</td>\n",
       "      <td>1.056766e+11</td>\n",
       "      <td>1.139804e+11</td>\n",
       "      <td>1.250137e+11</td>\n",
       "      <td>1.283074e+11</td>\n",
       "      <td>1.381940e+11</td>\n",
       "      <td>1.547571e+11</td>\n",
       "      <td>...</td>\n",
       "      <td>4.304209e+12</td>\n",
       "      <td>5.337370e+12</td>\n",
       "      <td>6.072621e+12</td>\n",
       "      <td>6.135569e+12</td>\n",
       "      <td>6.286973e+12</td>\n",
       "      <td>6.408426e+12</td>\n",
       "      <td>5.096222e+12</td>\n",
       "      <td>4.975906e+12</td>\n",
       "      <td>5.518414e+12</td>\n",
       "      <td>5.225616e+12</td>\n",
       "    </tr>\n",
       "    <tr>\n",
       "      <th>Middle East &amp; North Africa</th>\n",
       "      <td>1.410026e+10</td>\n",
       "      <td>1.480286e+10</td>\n",
       "      <td>1.464984e+10</td>\n",
       "      <td>1.646011e+10</td>\n",
       "      <td>1.817289e+10</td>\n",
       "      <td>2.611756e+10</td>\n",
       "      <td>2.746475e+10</td>\n",
       "      <td>2.945480e+10</td>\n",
       "      <td>3.976426e+10</td>\n",
       "      <td>4.424300e+10</td>\n",
       "      <td>...</td>\n",
       "      <td>2.317843e+12</td>\n",
       "      <td>2.709008e+12</td>\n",
       "      <td>3.212230e+12</td>\n",
       "      <td>3.499256e+12</td>\n",
       "      <td>3.477778e+12</td>\n",
       "      <td>3.493216e+12</td>\n",
       "      <td>3.079035e+12</td>\n",
       "      <td>3.082424e+12</td>\n",
       "      <td>3.205069e+12</td>\n",
       "      <td>3.038224e+12</td>\n",
       "    </tr>\n",
       "    <tr>\n",
       "      <th>North America</th>\n",
       "      <td>5.433845e+11</td>\n",
       "      <td>6.049452e+11</td>\n",
       "      <td>6.480622e+11</td>\n",
       "      <td>6.844095e+11</td>\n",
       "      <td>7.360342e+11</td>\n",
       "      <td>7.991566e+11</td>\n",
       "      <td>8.771493e+11</td>\n",
       "      <td>9.285200e+11</td>\n",
       "      <td>1.015570e+12</td>\n",
       "      <td>1.100414e+12</td>\n",
       "      <td>...</td>\n",
       "      <td>1.582589e+13</td>\n",
       "      <td>1.661134e+13</td>\n",
       "      <td>1.733727e+13</td>\n",
       "      <td>1.802651e+13</td>\n",
       "      <td>1.863244e+13</td>\n",
       "      <td>1.932323e+13</td>\n",
       "      <td>1.977220e+13</td>\n",
       "      <td>2.023389e+13</td>\n",
       "      <td>2.113226e+13</td>\n",
       "      <td>2.220661e+13</td>\n",
       "    </tr>\n",
       "  </tbody>\n",
       "</table>\n",
       "<p>5 rows × 59 columns</p>\n",
       "</div>"
      ],
      "text/plain": [
       "                                    1960          1961          1962  \\\n",
       "Region                                                                 \n",
       "East Asia & Pacific         1.464117e+11  1.466530e+11  1.499091e+11   \n",
       "Europe & Central Asia       2.834935e+11  3.017402e+11  3.299221e+11   \n",
       "Latin America & Caribbean   5.739650e+10  6.076983e+10  9.396298e+10   \n",
       "Middle East & North Africa  1.410026e+10  1.480286e+10  1.464984e+10   \n",
       "North America               5.433845e+11  6.049452e+11  6.480622e+11   \n",
       "\n",
       "                                    1963          1964          1965  \\\n",
       "Region                                                                 \n",
       "East Asia & Pacific         1.672525e+11  1.921180e+11  2.144489e+11   \n",
       "Europe & Central Asia       3.638094e+11  4.028910e+11  4.384373e+11   \n",
       "Latin America & Caribbean   9.482963e+10  1.056766e+11  1.139804e+11   \n",
       "Middle East & North Africa  1.646011e+10  1.817289e+10  2.611756e+10   \n",
       "North America               6.844095e+11  7.360342e+11  7.991566e+11   \n",
       "\n",
       "                                    1966          1967          1968  \\\n",
       "Region                                                                 \n",
       "East Asia & Pacific         2.397578e+11  2.652445e+11  2.920148e+11   \n",
       "Europe & Central Asia       4.762716e+11  5.124271e+11  5.344567e+11   \n",
       "Latin America & Caribbean   1.250137e+11  1.283074e+11  1.381940e+11   \n",
       "Middle East & North Africa  2.746475e+10  2.945480e+10  3.976426e+10   \n",
       "North America               8.771493e+11  9.285200e+11  1.015570e+12   \n",
       "\n",
       "                                    1969      ...               2009  \\\n",
       "Region                                        ...                      \n",
       "East Asia & Pacific         3.363400e+11      ...       1.410704e+13   \n",
       "Europe & Central Asia       5.867793e+11      ...       2.046299e+13   \n",
       "Latin America & Caribbean   1.547571e+11      ...       4.304209e+12   \n",
       "Middle East & North Africa  4.424300e+10      ...       2.317843e+12   \n",
       "North America               1.100414e+12      ...       1.582589e+13   \n",
       "\n",
       "                                    2010          2011          2012  \\\n",
       "Region                                                                 \n",
       "East Asia & Pacific         1.645754e+13  1.911055e+13  2.047535e+13   \n",
       "Europe & Central Asia       2.093713e+13  2.319850e+13  2.236120e+13   \n",
       "Latin America & Caribbean   5.337370e+12  6.072621e+12  6.135569e+12   \n",
       "Middle East & North Africa  2.709008e+12  3.212230e+12  3.499256e+12   \n",
       "North America               1.661134e+13  1.733727e+13  1.802651e+13   \n",
       "\n",
       "                                    2013          2014          2015  \\\n",
       "Region                                                                 \n",
       "East Asia & Pacific         2.069293e+13  2.130545e+13  2.118190e+13   \n",
       "Europe & Central Asia       2.336925e+13  2.369537e+13  2.040889e+13   \n",
       "Latin America & Caribbean   6.286973e+12  6.408426e+12  5.096222e+12   \n",
       "Middle East & North Africa  3.477778e+12  3.493216e+12  3.079035e+12   \n",
       "North America               1.863244e+13  1.932323e+13  1.977220e+13   \n",
       "\n",
       "                                    2016          2017          2018  \n",
       "Region                                                                \n",
       "East Asia & Pacific         2.187461e+13  2.329305e+13  2.527159e+13  \n",
       "Europe & Central Asia       2.034983e+13  2.149848e+13  2.300117e+13  \n",
       "Latin America & Caribbean   4.975906e+12  5.518414e+12  5.225616e+12  \n",
       "Middle East & North Africa  3.082424e+12  3.205069e+12  3.038224e+12  \n",
       "North America               2.023389e+13  2.113226e+13  2.220661e+13  \n",
       "\n",
       "[5 rows x 59 columns]"
      ]
     },
     "execution_count": 63,
     "metadata": {},
     "output_type": "execute_result"
    }
   ],
   "source": [
    "df.head()"
   ]
  },
  {
   "cell_type": "code",
   "execution_count": 64,
   "metadata": {
    "slideshow": {
     "slide_type": "subslide"
    }
   },
   "outputs": [
    {
     "data": {
      "text/plain": [
       "<matplotlib.axes._subplots.AxesSubplot at 0x16bdaa210f0>"
      ]
     },
     "execution_count": 64,
     "metadata": {},
     "output_type": "execute_result"
    },
    {
     "data": {
      "image/png": "[encoded data removed]",
      "text/plain": [
       "<matplotlib.figure.Figure at 0x16bd8a449b0>"
      ]
     },
     "metadata": {},
     "output_type": "display_data"
    }
   ],
   "source": [
    "df.T.plot(figsize=(10, 10))"
   ]
  },
  {
   "cell_type": "markdown",
   "metadata": {},
   "source": [
    "#"
   ]
  },
  {
   "cell_type": "markdown",
   "metadata": {
    "slideshow": {
     "slide_type": "skip"
    }
   },
   "source": [
    "---------------------------------"
   ]
  },
  {
   "cell_type": "markdown",
   "metadata": {
    "slideshow": {
     "slide_type": "slide"
    }
   },
   "source": [
    "# <center><u>GDP PER CAPITA :</u></center>"
   ]
  },
  {
   "cell_type": "code",
   "execution_count": 33,
   "metadata": {
    "slideshow": {
     "slide_type": "fragment"
    }
   },
   "outputs": [],
   "source": [
    "gdp_per_capita = pd.read_csv('data/API_NY.GDP.PCAP.CD_DS2_en_csv_v2_422141.csv', skiprows=4)"
   ]
  },
  {
   "cell_type": "code",
   "execution_count": 35,
   "metadata": {
    "slideshow": {
     "slide_type": "fragment"
    }
   },
   "outputs": [
    {
     "data": {
      "text/html": [
       "<div>\n",
       "<style scoped>\n",
       "    .dataframe tbody tr th:only-of-type {\n",
       "        vertical-align: middle;\n",
       "    }\n",
       "\n",
       "    .dataframe tbody tr th {\n",
       "        vertical-align: top;\n",
       "    }\n",
       "\n",
       "    .dataframe thead th {\n",
       "        text-align: right;\n",
       "    }\n",
       "</style>\n",
       "<table border=\"1\" class=\"dataframe\">\n",
       "  <thead>\n",
       "    <tr style=\"text-align: right;\">\n",
       "      <th></th>\n",
       "      <th>Country Name</th>\n",
       "      <th>Country Code</th>\n",
       "      <th>Indicator Name</th>\n",
       "      <th>Indicator Code</th>\n",
       "      <th>1960</th>\n",
       "      <th>1961</th>\n",
       "      <th>1962</th>\n",
       "      <th>1963</th>\n",
       "      <th>1964</th>\n",
       "      <th>1965</th>\n",
       "      <th>...</th>\n",
       "      <th>2011</th>\n",
       "      <th>2012</th>\n",
       "      <th>2013</th>\n",
       "      <th>2014</th>\n",
       "      <th>2015</th>\n",
       "      <th>2016</th>\n",
       "      <th>2017</th>\n",
       "      <th>2018</th>\n",
       "      <th>2019</th>\n",
       "      <th>Unnamed: 64</th>\n",
       "    </tr>\n",
       "  </thead>\n",
       "  <tbody>\n",
       "    <tr>\n",
       "      <th>0</th>\n",
       "      <td>Aruba</td>\n",
       "      <td>ABW</td>\n",
       "      <td>GDP per capita (current US$)</td>\n",
       "      <td>NY.GDP.PCAP.CD</td>\n",
       "      <td>NaN</td>\n",
       "      <td>NaN</td>\n",
       "      <td>NaN</td>\n",
       "      <td>NaN</td>\n",
       "      <td>NaN</td>\n",
       "      <td>NaN</td>\n",
       "      <td>...</td>\n",
       "      <td>24985.993281</td>\n",
       "      <td>24713.698045</td>\n",
       "      <td>25025.099563</td>\n",
       "      <td>25533.569780</td>\n",
       "      <td>25796.380251</td>\n",
       "      <td>25239.600411</td>\n",
       "      <td>25630.266492</td>\n",
       "      <td>NaN</td>\n",
       "      <td>NaN</td>\n",
       "      <td>NaN</td>\n",
       "    </tr>\n",
       "    <tr>\n",
       "      <th>1</th>\n",
       "      <td>Afghanistan</td>\n",
       "      <td>AFG</td>\n",
       "      <td>GDP per capita (current US$)</td>\n",
       "      <td>NY.GDP.PCAP.CD</td>\n",
       "      <td>59.773194</td>\n",
       "      <td>59.860874</td>\n",
       "      <td>58.458015</td>\n",
       "      <td>78.706388</td>\n",
       "      <td>82.095231</td>\n",
       "      <td>101.108305</td>\n",
       "      <td>...</td>\n",
       "      <td>591.162346</td>\n",
       "      <td>641.872034</td>\n",
       "      <td>637.165044</td>\n",
       "      <td>613.856333</td>\n",
       "      <td>578.466353</td>\n",
       "      <td>547.228110</td>\n",
       "      <td>556.302139</td>\n",
       "      <td>520.896603</td>\n",
       "      <td>NaN</td>\n",
       "      <td>NaN</td>\n",
       "    </tr>\n",
       "    <tr>\n",
       "      <th>2</th>\n",
       "      <td>Angola</td>\n",
       "      <td>AGO</td>\n",
       "      <td>GDP per capita (current US$)</td>\n",
       "      <td>NY.GDP.PCAP.CD</td>\n",
       "      <td>NaN</td>\n",
       "      <td>NaN</td>\n",
       "      <td>NaN</td>\n",
       "      <td>NaN</td>\n",
       "      <td>NaN</td>\n",
       "      <td>NaN</td>\n",
       "      <td>...</td>\n",
       "      <td>4615.468028</td>\n",
       "      <td>5100.095808</td>\n",
       "      <td>5254.882338</td>\n",
       "      <td>5408.410496</td>\n",
       "      <td>4166.979684</td>\n",
       "      <td>3506.072885</td>\n",
       "      <td>4095.812942</td>\n",
       "      <td>3432.385736</td>\n",
       "      <td>NaN</td>\n",
       "      <td>NaN</td>\n",
       "    </tr>\n",
       "    <tr>\n",
       "      <th>3</th>\n",
       "      <td>Albania</td>\n",
       "      <td>ALB</td>\n",
       "      <td>GDP per capita (current US$)</td>\n",
       "      <td>NY.GDP.PCAP.CD</td>\n",
       "      <td>NaN</td>\n",
       "      <td>NaN</td>\n",
       "      <td>NaN</td>\n",
       "      <td>NaN</td>\n",
       "      <td>NaN</td>\n",
       "      <td>NaN</td>\n",
       "      <td>...</td>\n",
       "      <td>4437.177794</td>\n",
       "      <td>4247.614342</td>\n",
       "      <td>4413.082887</td>\n",
       "      <td>4578.667934</td>\n",
       "      <td>3952.830781</td>\n",
       "      <td>4124.108543</td>\n",
       "      <td>4532.889198</td>\n",
       "      <td>5253.630064</td>\n",
       "      <td>NaN</td>\n",
       "      <td>NaN</td>\n",
       "    </tr>\n",
       "    <tr>\n",
       "      <th>4</th>\n",
       "      <td>Andorra</td>\n",
       "      <td>AND</td>\n",
       "      <td>GDP per capita (current US$)</td>\n",
       "      <td>NY.GDP.PCAP.CD</td>\n",
       "      <td>NaN</td>\n",
       "      <td>NaN</td>\n",
       "      <td>NaN</td>\n",
       "      <td>NaN</td>\n",
       "      <td>NaN</td>\n",
       "      <td>NaN</td>\n",
       "      <td>...</td>\n",
       "      <td>41100.729938</td>\n",
       "      <td>38392.943901</td>\n",
       "      <td>40626.751632</td>\n",
       "      <td>42300.334128</td>\n",
       "      <td>36039.653496</td>\n",
       "      <td>37224.108916</td>\n",
       "      <td>39134.393371</td>\n",
       "      <td>42029.762737</td>\n",
       "      <td>NaN</td>\n",
       "      <td>NaN</td>\n",
       "    </tr>\n",
       "  </tbody>\n",
       "</table>\n",
       "<p>5 rows × 65 columns</p>\n",
       "</div>"
      ],
      "text/plain": [
       "  Country Name Country Code                Indicator Name  Indicator Code  \\\n",
       "0        Aruba          ABW  GDP per capita (current US$)  NY.GDP.PCAP.CD   \n",
       "1  Afghanistan          AFG  GDP per capita (current US$)  NY.GDP.PCAP.CD   \n",
       "2       Angola          AGO  GDP per capita (current US$)  NY.GDP.PCAP.CD   \n",
       "3      Albania          ALB  GDP per capita (current US$)  NY.GDP.PCAP.CD   \n",
       "4      Andorra          AND  GDP per capita (current US$)  NY.GDP.PCAP.CD   \n",
       "\n",
       "        1960       1961       1962       1963       1964        1965  \\\n",
       "0        NaN        NaN        NaN        NaN        NaN         NaN   \n",
       "1  59.773194  59.860874  58.458015  78.706388  82.095231  101.108305   \n",
       "2        NaN        NaN        NaN        NaN        NaN         NaN   \n",
       "3        NaN        NaN        NaN        NaN        NaN         NaN   \n",
       "4        NaN        NaN        NaN        NaN        NaN         NaN   \n",
       "\n",
       "      ...               2011          2012          2013          2014  \\\n",
       "0     ...       24985.993281  24713.698045  25025.099563  25533.569780   \n",
       "1     ...         591.162346    641.872034    637.165044    613.856333   \n",
       "2     ...        4615.468028   5100.095808   5254.882338   5408.410496   \n",
       "3     ...        4437.177794   4247.614342   4413.082887   4578.667934   \n",
       "4     ...       41100.729938  38392.943901  40626.751632  42300.334128   \n",
       "\n",
       "           2015          2016          2017          2018  2019  Unnamed: 64  \n",
       "0  25796.380251  25239.600411  25630.266492           NaN   NaN          NaN  \n",
       "1    578.466353    547.228110    556.302139    520.896603   NaN          NaN  \n",
       "2   4166.979684   3506.072885   4095.812942   3432.385736   NaN          NaN  \n",
       "3   3952.830781   4124.108543   4532.889198   5253.630064   NaN          NaN  \n",
       "4  36039.653496  37224.108916  39134.393371  42029.762737   NaN          NaN  \n",
       "\n",
       "[5 rows x 65 columns]"
      ]
     },
     "execution_count": 35,
     "metadata": {},
     "output_type": "execute_result"
    }
   ],
   "source": [
    "gdp_per_capita.head()"
   ]
  },
  {
   "cell_type": "code",
   "execution_count": 36,
   "metadata": {
    "slideshow": {
     "slide_type": "fragment"
    }
   },
   "outputs": [],
   "source": [
    "df_gdp_per_cap = gdp_per_capita.merge(metadata_countries, left_on='Country Code', right_on='Country Code')"
   ]
  },
  {
   "cell_type": "code",
   "execution_count": 68,
   "metadata": {
    "slideshow": {
     "slide_type": "fragment"
    }
   },
   "outputs": [],
   "source": [
    "df_gdp_per_cap = df_gdp_per_cap.groupby(['Region']).sum().drop(['2019', 'Unnamed: 64', 'Unnamed: 5'], axis=1)"
   ]
  },
  {
   "cell_type": "code",
   "execution_count": 69,
   "metadata": {
    "slideshow": {
     "slide_type": "fragment"
    }
   },
   "outputs": [
    {
     "data": {
      "text/html": [
       "<div>\n",
       "<style scoped>\n",
       "    .dataframe tbody tr th:only-of-type {\n",
       "        vertical-align: middle;\n",
       "    }\n",
       "\n",
       "    .dataframe tbody tr th {\n",
       "        vertical-align: top;\n",
       "    }\n",
       "\n",
       "    .dataframe thead th {\n",
       "        text-align: right;\n",
       "    }\n",
       "</style>\n",
       "<table border=\"1\" class=\"dataframe\">\n",
       "  <thead>\n",
       "    <tr style=\"text-align: right;\">\n",
       "      <th></th>\n",
       "      <th>1960</th>\n",
       "      <th>1961</th>\n",
       "      <th>1962</th>\n",
       "      <th>1963</th>\n",
       "      <th>1964</th>\n",
       "      <th>1965</th>\n",
       "      <th>1966</th>\n",
       "      <th>1967</th>\n",
       "      <th>1968</th>\n",
       "      <th>1969</th>\n",
       "      <th>...</th>\n",
       "      <th>2009</th>\n",
       "      <th>2010</th>\n",
       "      <th>2011</th>\n",
       "      <th>2012</th>\n",
       "      <th>2013</th>\n",
       "      <th>2014</th>\n",
       "      <th>2015</th>\n",
       "      <th>2016</th>\n",
       "      <th>2017</th>\n",
       "      <th>2018</th>\n",
       "    </tr>\n",
       "    <tr>\n",
       "      <th>Region</th>\n",
       "      <th></th>\n",
       "      <th></th>\n",
       "      <th></th>\n",
       "      <th></th>\n",
       "      <th></th>\n",
       "      <th></th>\n",
       "      <th></th>\n",
       "      <th></th>\n",
       "      <th></th>\n",
       "      <th></th>\n",
       "      <th></th>\n",
       "      <th></th>\n",
       "      <th></th>\n",
       "      <th></th>\n",
       "      <th></th>\n",
       "      <th></th>\n",
       "      <th></th>\n",
       "      <th></th>\n",
       "      <th></th>\n",
       "      <th></th>\n",
       "      <th></th>\n",
       "    </tr>\n",
       "  </thead>\n",
       "  <tbody>\n",
       "    <tr>\n",
       "      <th>East Asia &amp; Pacific</th>\n",
       "      <td>522.624813</td>\n",
       "      <td>533.937254</td>\n",
       "      <td>544.951222</td>\n",
       "      <td>592.145607</td>\n",
       "      <td>634.790004</td>\n",
       "      <td>796.316505</td>\n",
       "      <td>849.709028</td>\n",
       "      <td>804.373900</td>\n",
       "      <td>858.909366</td>\n",
       "      <td>920.105829</td>\n",
       "      <td>...</td>\n",
       "      <td>11517.670362</td>\n",
       "      <td>13298.665824</td>\n",
       "      <td>15332.885241</td>\n",
       "      <td>16332.057612</td>\n",
       "      <td>16684.012118</td>\n",
       "      <td>16763.902823</td>\n",
       "      <td>15434.630572</td>\n",
       "      <td>15517.729996</td>\n",
       "      <td>16482.449989</td>\n",
       "      <td>16510.399708</td>\n",
       "    </tr>\n",
       "    <tr>\n",
       "      <th>Europe &amp; Central Asia</th>\n",
       "      <td>1150.292790</td>\n",
       "      <td>1218.420568</td>\n",
       "      <td>1311.685986</td>\n",
       "      <td>1421.599902</td>\n",
       "      <td>1590.503651</td>\n",
       "      <td>1730.067063</td>\n",
       "      <td>1873.189837</td>\n",
       "      <td>1974.352931</td>\n",
       "      <td>2013.470538</td>\n",
       "      <td>2192.322484</td>\n",
       "      <td>...</td>\n",
       "      <td>30594.573082</td>\n",
       "      <td>30908.387552</td>\n",
       "      <td>33909.944243</td>\n",
       "      <td>32089.480655</td>\n",
       "      <td>34107.082513</td>\n",
       "      <td>35082.975616</td>\n",
       "      <td>30850.869561</td>\n",
       "      <td>31238.590241</td>\n",
       "      <td>28329.985460</td>\n",
       "      <td>27159.064196</td>\n",
       "    </tr>\n",
       "    <tr>\n",
       "      <th>Latin America &amp; Caribbean</th>\n",
       "      <td>396.673866</td>\n",
       "      <td>415.127294</td>\n",
       "      <td>466.399424</td>\n",
       "      <td>473.590122</td>\n",
       "      <td>509.994628</td>\n",
       "      <td>516.001997</td>\n",
       "      <td>545.009019</td>\n",
       "      <td>562.877151</td>\n",
       "      <td>581.856093</td>\n",
       "      <td>638.406977</td>\n",
       "      <td>...</td>\n",
       "      <td>9627.737157</td>\n",
       "      <td>10246.638009</td>\n",
       "      <td>11052.646899</td>\n",
       "      <td>11319.298502</td>\n",
       "      <td>11484.794785</td>\n",
       "      <td>11738.649036</td>\n",
       "      <td>11611.104311</td>\n",
       "      <td>11579.845692</td>\n",
       "      <td>13105.703282</td>\n",
       "      <td>10029.996664</td>\n",
       "    </tr>\n",
       "    <tr>\n",
       "      <th>Middle East &amp; North Africa</th>\n",
       "      <td>375.088016</td>\n",
       "      <td>408.704145</td>\n",
       "      <td>355.665333</td>\n",
       "      <td>396.433251</td>\n",
       "      <td>430.377669</td>\n",
       "      <td>784.423575</td>\n",
       "      <td>804.185981</td>\n",
       "      <td>774.244552</td>\n",
       "      <td>761.499350</td>\n",
       "      <td>788.926413</td>\n",
       "      <td>...</td>\n",
       "      <td>13877.869220</td>\n",
       "      <td>15238.238677</td>\n",
       "      <td>17294.100111</td>\n",
       "      <td>18233.010938</td>\n",
       "      <td>18262.322062</td>\n",
       "      <td>17914.787434</td>\n",
       "      <td>14890.415134</td>\n",
       "      <td>14428.033153</td>\n",
       "      <td>15315.010092</td>\n",
       "      <td>17209.974086</td>\n",
       "    </tr>\n",
       "    <tr>\n",
       "      <th>North America</th>\n",
       "      <td>2454.762782</td>\n",
       "      <td>2434.174770</td>\n",
       "      <td>2522.410576</td>\n",
       "      <td>2601.767681</td>\n",
       "      <td>2789.181213</td>\n",
       "      <td>2974.045130</td>\n",
       "      <td>3290.167252</td>\n",
       "      <td>3528.381335</td>\n",
       "      <td>3680.441402</td>\n",
       "      <td>3968.968603</td>\n",
       "      <td>...</td>\n",
       "      <td>58778.784939</td>\n",
       "      <td>61374.823135</td>\n",
       "      <td>62652.689496</td>\n",
       "      <td>63201.433145</td>\n",
       "      <td>63786.543630</td>\n",
       "      <td>52934.234588</td>\n",
       "      <td>50149.263410</td>\n",
       "      <td>50092.051392</td>\n",
       "      <td>52498.928544</td>\n",
       "      <td>54425.781096</td>\n",
       "    </tr>\n",
       "  </tbody>\n",
       "</table>\n",
       "<p>5 rows × 59 columns</p>\n",
       "</div>"
      ],
      "text/plain": [
       "                                   1960         1961         1962  \\\n",
       "Region                                                              \n",
       "East Asia & Pacific          522.624813   533.937254   544.951222   \n",
       "Europe & Central Asia       1150.292790  1218.420568  1311.685986   \n",
       "Latin America & Caribbean    396.673866   415.127294   466.399424   \n",
       "Middle East & North Africa   375.088016   408.704145   355.665333   \n",
       "North America               2454.762782  2434.174770  2522.410576   \n",
       "\n",
       "                                   1963         1964         1965  \\\n",
       "Region                                                              \n",
       "East Asia & Pacific          592.145607   634.790004   796.316505   \n",
       "Europe & Central Asia       1421.599902  1590.503651  1730.067063   \n",
       "Latin America & Caribbean    473.590122   509.994628   516.001997   \n",
       "Middle East & North Africa   396.433251   430.377669   784.423575   \n",
       "North America               2601.767681  2789.181213  2974.045130   \n",
       "\n",
       "                                   1966         1967         1968  \\\n",
       "Region                                                              \n",
       "East Asia & Pacific          849.709028   804.373900   858.909366   \n",
       "Europe & Central Asia       1873.189837  1974.352931  2013.470538   \n",
       "Latin America & Caribbean    545.009019   562.877151   581.856093   \n",
       "Middle East & North Africa   804.185981   774.244552   761.499350   \n",
       "North America               3290.167252  3528.381335  3680.441402   \n",
       "\n",
       "                                   1969      ...               2009  \\\n",
       "Region                                       ...                      \n",
       "East Asia & Pacific          920.105829      ...       11517.670362   \n",
       "Europe & Central Asia       2192.322484      ...       30594.573082   \n",
       "Latin America & Caribbean    638.406977      ...        9627.737157   \n",
       "Middle East & North Africa   788.926413      ...       13877.869220   \n",
       "North America               3968.968603      ...       58778.784939   \n",
       "\n",
       "                                    2010          2011          2012  \\\n",
       "Region                                                                 \n",
       "East Asia & Pacific         13298.665824  15332.885241  16332.057612   \n",
       "Europe & Central Asia       30908.387552  33909.944243  32089.480655   \n",
       "Latin America & Caribbean   10246.638009  11052.646899  11319.298502   \n",
       "Middle East & North Africa  15238.238677  17294.100111  18233.010938   \n",
       "North America               61374.823135  62652.689496  63201.433145   \n",
       "\n",
       "                                    2013          2014          2015  \\\n",
       "Region                                                                 \n",
       "East Asia & Pacific         16684.012118  16763.902823  15434.630572   \n",
       "Europe & Central Asia       34107.082513  35082.975616  30850.869561   \n",
       "Latin America & Caribbean   11484.794785  11738.649036  11611.104311   \n",
       "Middle East & North Africa  18262.322062  17914.787434  14890.415134   \n",
       "North America               63786.543630  52934.234588  50149.263410   \n",
       "\n",
       "                                    2016          2017          2018  \n",
       "Region                                                                \n",
       "East Asia & Pacific         15517.729996  16482.449989  16510.399708  \n",
       "Europe & Central Asia       31238.590241  28329.985460  27159.064196  \n",
       "Latin America & Caribbean   11579.845692  13105.703282  10029.996664  \n",
       "Middle East & North Africa  14428.033153  15315.010092  17209.974086  \n",
       "North America               50092.051392  52498.928544  54425.781096  \n",
       "\n",
       "[5 rows x 59 columns]"
      ]
     },
     "execution_count": 69,
     "metadata": {},
     "output_type": "execute_result"
    }
   ],
   "source": [
    "df_gdp_per_cap.head()"
   ]
  },
  {
   "cell_type": "code",
   "execution_count": 192,
   "metadata": {
    "slideshow": {
     "slide_type": "fragment"
    }
   },
   "outputs": [],
   "source": [
    "df_gdp_per_cap.to_csv('data/gdp_per_capita.csv')"
   ]
  },
  {
   "cell_type": "code",
   "execution_count": 70,
   "metadata": {
    "slideshow": {
     "slide_type": "slide"
    }
   },
   "outputs": [
    {
     "data": {
      "text/plain": [
       "<matplotlib.axes._subplots.AxesSubplot at 0x16bdb02fda0>"
      ]
     },
     "execution_count": 70,
     "metadata": {},
     "output_type": "execute_result"
    },
    {
     "data": {
      "image/png": "[encoded data removed]",
      "text/plain": [
       "<matplotlib.figure.Figure at 0x16bdae2d0b8>"
      ]
     },
     "metadata": {},
     "output_type": "display_data"
    }
   ],
   "source": [
    "df_gdp_per_cap.T.plot(figsize=(10,10))"
   ]
  },
  {
   "cell_type": "markdown",
   "metadata": {
    "slideshow": {
     "slide_type": "skip"
    }
   },
   "source": [
    "#"
   ]
  },
  {
   "cell_type": "markdown",
   "metadata": {
    "slideshow": {
     "slide_type": "slide"
    }
   },
   "source": [
    "-----------------------------------------------------------------\n",
    "# Access to electricity :"
   ]
  },
  {
   "cell_type": "code",
   "execution_count": 87,
   "metadata": {
    "slideshow": {
     "slide_type": "fragment"
    }
   },
   "outputs": [],
   "source": [
    "elect_access = pd.read_csv('data/API_EG.ELC.ACCS.ZS_DS2_en_csv_v2_427235.csv', skiprows=4)"
   ]
  },
  {
   "cell_type": "code",
   "execution_count": 88,
   "metadata": {
    "slideshow": {
     "slide_type": "fragment"
    }
   },
   "outputs": [
    {
     "data": {
      "text/html": [
       "<div>\n",
       "<style scoped>\n",
       "    .dataframe tbody tr th:only-of-type {\n",
       "        vertical-align: middle;\n",
       "    }\n",
       "\n",
       "    .dataframe tbody tr th {\n",
       "        vertical-align: top;\n",
       "    }\n",
       "\n",
       "    .dataframe thead th {\n",
       "        text-align: right;\n",
       "    }\n",
       "</style>\n",
       "<table border=\"1\" class=\"dataframe\">\n",
       "  <thead>\n",
       "    <tr style=\"text-align: right;\">\n",
       "      <th></th>\n",
       "      <th>Country Name</th>\n",
       "      <th>Country Code</th>\n",
       "      <th>Indicator Name</th>\n",
       "      <th>Indicator Code</th>\n",
       "      <th>1960</th>\n",
       "      <th>1961</th>\n",
       "      <th>1962</th>\n",
       "      <th>1963</th>\n",
       "      <th>1964</th>\n",
       "      <th>1965</th>\n",
       "      <th>...</th>\n",
       "      <th>2011</th>\n",
       "      <th>2012</th>\n",
       "      <th>2013</th>\n",
       "      <th>2014</th>\n",
       "      <th>2015</th>\n",
       "      <th>2016</th>\n",
       "      <th>2017</th>\n",
       "      <th>2018</th>\n",
       "      <th>2019</th>\n",
       "      <th>Unnamed: 64</th>\n",
       "    </tr>\n",
       "  </thead>\n",
       "  <tbody>\n",
       "    <tr>\n",
       "      <th>0</th>\n",
       "      <td>Aruba</td>\n",
       "      <td>ABW</td>\n",
       "      <td>Access to electricity (% of population)</td>\n",
       "      <td>EG.ELC.ACCS.ZS</td>\n",
       "      <td>NaN</td>\n",
       "      <td>NaN</td>\n",
       "      <td>NaN</td>\n",
       "      <td>NaN</td>\n",
       "      <td>NaN</td>\n",
       "      <td>NaN</td>\n",
       "      <td>...</td>\n",
       "      <td>100.000000</td>\n",
       "      <td>100.000000</td>\n",
       "      <td>100.000000</td>\n",
       "      <td>100.0</td>\n",
       "      <td>100.0</td>\n",
       "      <td>100.000000</td>\n",
       "      <td>100.00000</td>\n",
       "      <td>NaN</td>\n",
       "      <td>NaN</td>\n",
       "      <td>NaN</td>\n",
       "    </tr>\n",
       "    <tr>\n",
       "      <th>1</th>\n",
       "      <td>Afghanistan</td>\n",
       "      <td>AFG</td>\n",
       "      <td>Access to electricity (% of population)</td>\n",
       "      <td>EG.ELC.ACCS.ZS</td>\n",
       "      <td>NaN</td>\n",
       "      <td>NaN</td>\n",
       "      <td>NaN</td>\n",
       "      <td>NaN</td>\n",
       "      <td>NaN</td>\n",
       "      <td>NaN</td>\n",
       "      <td>...</td>\n",
       "      <td>43.222019</td>\n",
       "      <td>69.100000</td>\n",
       "      <td>70.153481</td>\n",
       "      <td>89.5</td>\n",
       "      <td>71.5</td>\n",
       "      <td>97.700000</td>\n",
       "      <td>97.70000</td>\n",
       "      <td>NaN</td>\n",
       "      <td>NaN</td>\n",
       "      <td>NaN</td>\n",
       "    </tr>\n",
       "    <tr>\n",
       "      <th>2</th>\n",
       "      <td>Angola</td>\n",
       "      <td>AGO</td>\n",
       "      <td>Access to electricity (% of population)</td>\n",
       "      <td>EG.ELC.ACCS.ZS</td>\n",
       "      <td>NaN</td>\n",
       "      <td>NaN</td>\n",
       "      <td>NaN</td>\n",
       "      <td>NaN</td>\n",
       "      <td>NaN</td>\n",
       "      <td>NaN</td>\n",
       "      <td>...</td>\n",
       "      <td>34.600000</td>\n",
       "      <td>35.670788</td>\n",
       "      <td>36.878685</td>\n",
       "      <td>32.0</td>\n",
       "      <td>42.0</td>\n",
       "      <td>40.624527</td>\n",
       "      <td>41.88623</td>\n",
       "      <td>NaN</td>\n",
       "      <td>NaN</td>\n",
       "      <td>NaN</td>\n",
       "    </tr>\n",
       "    <tr>\n",
       "      <th>3</th>\n",
       "      <td>Albania</td>\n",
       "      <td>ALB</td>\n",
       "      <td>Access to electricity (% of population)</td>\n",
       "      <td>EG.ELC.ACCS.ZS</td>\n",
       "      <td>NaN</td>\n",
       "      <td>NaN</td>\n",
       "      <td>NaN</td>\n",
       "      <td>NaN</td>\n",
       "      <td>NaN</td>\n",
       "      <td>NaN</td>\n",
       "      <td>...</td>\n",
       "      <td>100.000000</td>\n",
       "      <td>100.000000</td>\n",
       "      <td>100.000000</td>\n",
       "      <td>100.0</td>\n",
       "      <td>100.0</td>\n",
       "      <td>100.000000</td>\n",
       "      <td>100.00000</td>\n",
       "      <td>NaN</td>\n",
       "      <td>NaN</td>\n",
       "      <td>NaN</td>\n",
       "    </tr>\n",
       "    <tr>\n",
       "      <th>4</th>\n",
       "      <td>Andorra</td>\n",
       "      <td>AND</td>\n",
       "      <td>Access to electricity (% of population)</td>\n",
       "      <td>EG.ELC.ACCS.ZS</td>\n",
       "      <td>NaN</td>\n",
       "      <td>NaN</td>\n",
       "      <td>NaN</td>\n",
       "      <td>NaN</td>\n",
       "      <td>NaN</td>\n",
       "      <td>NaN</td>\n",
       "      <td>...</td>\n",
       "      <td>100.000000</td>\n",
       "      <td>100.000000</td>\n",
       "      <td>100.000000</td>\n",
       "      <td>100.0</td>\n",
       "      <td>100.0</td>\n",
       "      <td>100.000000</td>\n",
       "      <td>100.00000</td>\n",
       "      <td>NaN</td>\n",
       "      <td>NaN</td>\n",
       "      <td>NaN</td>\n",
       "    </tr>\n",
       "  </tbody>\n",
       "</table>\n",
       "<p>5 rows × 65 columns</p>\n",
       "</div>"
      ],
      "text/plain": [
       "  Country Name Country Code                           Indicator Name  \\\n",
       "0        Aruba          ABW  Access to electricity (% of population)   \n",
       "1  Afghanistan          AFG  Access to electricity (% of population)   \n",
       "2       Angola          AGO  Access to electricity (% of population)   \n",
       "3      Albania          ALB  Access to electricity (% of population)   \n",
       "4      Andorra          AND  Access to electricity (% of population)   \n",
       "\n",
       "   Indicator Code  1960  1961  1962  1963  1964  1965     ...       \\\n",
       "0  EG.ELC.ACCS.ZS   NaN   NaN   NaN   NaN   NaN   NaN     ...        \n",
       "1  EG.ELC.ACCS.ZS   NaN   NaN   NaN   NaN   NaN   NaN     ...        \n",
       "2  EG.ELC.ACCS.ZS   NaN   NaN   NaN   NaN   NaN   NaN     ...        \n",
       "3  EG.ELC.ACCS.ZS   NaN   NaN   NaN   NaN   NaN   NaN     ...        \n",
       "4  EG.ELC.ACCS.ZS   NaN   NaN   NaN   NaN   NaN   NaN     ...        \n",
       "\n",
       "         2011        2012        2013   2014   2015        2016       2017  \\\n",
       "0  100.000000  100.000000  100.000000  100.0  100.0  100.000000  100.00000   \n",
       "1   43.222019   69.100000   70.153481   89.5   71.5   97.700000   97.70000   \n",
       "2   34.600000   35.670788   36.878685   32.0   42.0   40.624527   41.88623   \n",
       "3  100.000000  100.000000  100.000000  100.0  100.0  100.000000  100.00000   \n",
       "4  100.000000  100.000000  100.000000  100.0  100.0  100.000000  100.00000   \n",
       "\n",
       "   2018  2019  Unnamed: 64  \n",
       "0   NaN   NaN          NaN  \n",
       "1   NaN   NaN          NaN  \n",
       "2   NaN   NaN          NaN  \n",
       "3   NaN   NaN          NaN  \n",
       "4   NaN   NaN          NaN  \n",
       "\n",
       "[5 rows x 65 columns]"
      ]
     },
     "execution_count": 88,
     "metadata": {},
     "output_type": "execute_result"
    }
   ],
   "source": [
    "elect_access.head()"
   ]
  },
  {
   "cell_type": "code",
   "execution_count": 89,
   "metadata": {
    "slideshow": {
     "slide_type": "fragment"
    }
   },
   "outputs": [],
   "source": [
    "elect_access = elect_access.merge(metadata_countries, left_on='Country Code', right_on='Country Code')"
   ]
  },
  {
   "cell_type": "code",
   "execution_count": 92,
   "metadata": {
    "slideshow": {
     "slide_type": "fragment"
    }
   },
   "outputs": [],
   "source": [
    "df_elect_access = elect_access.groupby(['Region']).mean().drop(['2018', '2019', 'Unnamed: 64', 'Unnamed: 5'], axis=1)"
   ]
  },
  {
   "cell_type": "code",
   "execution_count": 93,
   "metadata": {
    "slideshow": {
     "slide_type": "fragment"
    }
   },
   "outputs": [
    {
     "data": {
      "text/html": [
       "<div>\n",
       "<style scoped>\n",
       "    .dataframe tbody tr th:only-of-type {\n",
       "        vertical-align: middle;\n",
       "    }\n",
       "\n",
       "    .dataframe tbody tr th {\n",
       "        vertical-align: top;\n",
       "    }\n",
       "\n",
       "    .dataframe thead th {\n",
       "        text-align: right;\n",
       "    }\n",
       "</style>\n",
       "<table border=\"1\" class=\"dataframe\">\n",
       "  <thead>\n",
       "    <tr style=\"text-align: right;\">\n",
       "      <th></th>\n",
       "      <th>1960</th>\n",
       "      <th>1961</th>\n",
       "      <th>1962</th>\n",
       "      <th>1963</th>\n",
       "      <th>1964</th>\n",
       "      <th>1965</th>\n",
       "      <th>1966</th>\n",
       "      <th>1967</th>\n",
       "      <th>1968</th>\n",
       "      <th>1969</th>\n",
       "      <th>...</th>\n",
       "      <th>2008</th>\n",
       "      <th>2009</th>\n",
       "      <th>2010</th>\n",
       "      <th>2011</th>\n",
       "      <th>2012</th>\n",
       "      <th>2013</th>\n",
       "      <th>2014</th>\n",
       "      <th>2015</th>\n",
       "      <th>2016</th>\n",
       "      <th>2017</th>\n",
       "    </tr>\n",
       "    <tr>\n",
       "      <th>Region</th>\n",
       "      <th></th>\n",
       "      <th></th>\n",
       "      <th></th>\n",
       "      <th></th>\n",
       "      <th></th>\n",
       "      <th></th>\n",
       "      <th></th>\n",
       "      <th></th>\n",
       "      <th></th>\n",
       "      <th></th>\n",
       "      <th></th>\n",
       "      <th></th>\n",
       "      <th></th>\n",
       "      <th></th>\n",
       "      <th></th>\n",
       "      <th></th>\n",
       "      <th></th>\n",
       "      <th></th>\n",
       "      <th></th>\n",
       "      <th></th>\n",
       "      <th></th>\n",
       "    </tr>\n",
       "  </thead>\n",
       "  <tbody>\n",
       "    <tr>\n",
       "      <th>East Asia &amp; Pacific</th>\n",
       "      <td>NaN</td>\n",
       "      <td>NaN</td>\n",
       "      <td>NaN</td>\n",
       "      <td>NaN</td>\n",
       "      <td>NaN</td>\n",
       "      <td>NaN</td>\n",
       "      <td>NaN</td>\n",
       "      <td>NaN</td>\n",
       "      <td>NaN</td>\n",
       "      <td>NaN</td>\n",
       "      <td>...</td>\n",
       "      <td>81.991984</td>\n",
       "      <td>81.711086</td>\n",
       "      <td>81.954970</td>\n",
       "      <td>83.857607</td>\n",
       "      <td>84.980764</td>\n",
       "      <td>85.652169</td>\n",
       "      <td>86.814016</td>\n",
       "      <td>88.639931</td>\n",
       "      <td>89.996176</td>\n",
       "      <td>91.619467</td>\n",
       "    </tr>\n",
       "    <tr>\n",
       "      <th>Europe &amp; Central Asia</th>\n",
       "      <td>NaN</td>\n",
       "      <td>NaN</td>\n",
       "      <td>NaN</td>\n",
       "      <td>NaN</td>\n",
       "      <td>NaN</td>\n",
       "      <td>NaN</td>\n",
       "      <td>NaN</td>\n",
       "      <td>NaN</td>\n",
       "      <td>NaN</td>\n",
       "      <td>NaN</td>\n",
       "      <td>...</td>\n",
       "      <td>99.894192</td>\n",
       "      <td>99.914233</td>\n",
       "      <td>99.906119</td>\n",
       "      <td>99.938484</td>\n",
       "      <td>99.972229</td>\n",
       "      <td>99.973719</td>\n",
       "      <td>99.979751</td>\n",
       "      <td>99.993268</td>\n",
       "      <td>99.997941</td>\n",
       "      <td>99.987719</td>\n",
       "    </tr>\n",
       "    <tr>\n",
       "      <th>Latin America &amp; Caribbean</th>\n",
       "      <td>NaN</td>\n",
       "      <td>NaN</td>\n",
       "      <td>NaN</td>\n",
       "      <td>NaN</td>\n",
       "      <td>NaN</td>\n",
       "      <td>NaN</td>\n",
       "      <td>NaN</td>\n",
       "      <td>NaN</td>\n",
       "      <td>NaN</td>\n",
       "      <td>NaN</td>\n",
       "      <td>...</td>\n",
       "      <td>92.411054</td>\n",
       "      <td>92.723906</td>\n",
       "      <td>92.752236</td>\n",
       "      <td>94.079773</td>\n",
       "      <td>94.604554</td>\n",
       "      <td>95.212376</td>\n",
       "      <td>95.605395</td>\n",
       "      <td>96.050948</td>\n",
       "      <td>96.500747</td>\n",
       "      <td>97.031717</td>\n",
       "    </tr>\n",
       "    <tr>\n",
       "      <th>Middle East &amp; North Africa</th>\n",
       "      <td>NaN</td>\n",
       "      <td>NaN</td>\n",
       "      <td>NaN</td>\n",
       "      <td>NaN</td>\n",
       "      <td>NaN</td>\n",
       "      <td>NaN</td>\n",
       "      <td>NaN</td>\n",
       "      <td>NaN</td>\n",
       "      <td>NaN</td>\n",
       "      <td>NaN</td>\n",
       "      <td>...</td>\n",
       "      <td>93.975282</td>\n",
       "      <td>94.015756</td>\n",
       "      <td>94.317698</td>\n",
       "      <td>94.406039</td>\n",
       "      <td>94.501379</td>\n",
       "      <td>94.961666</td>\n",
       "      <td>94.190357</td>\n",
       "      <td>94.970712</td>\n",
       "      <td>95.051857</td>\n",
       "      <td>95.199380</td>\n",
       "    </tr>\n",
       "    <tr>\n",
       "      <th>North America</th>\n",
       "      <td>NaN</td>\n",
       "      <td>NaN</td>\n",
       "      <td>NaN</td>\n",
       "      <td>NaN</td>\n",
       "      <td>NaN</td>\n",
       "      <td>NaN</td>\n",
       "      <td>NaN</td>\n",
       "      <td>NaN</td>\n",
       "      <td>NaN</td>\n",
       "      <td>NaN</td>\n",
       "      <td>...</td>\n",
       "      <td>100.000000</td>\n",
       "      <td>100.000000</td>\n",
       "      <td>100.000000</td>\n",
       "      <td>100.000000</td>\n",
       "      <td>100.000000</td>\n",
       "      <td>100.000000</td>\n",
       "      <td>100.000000</td>\n",
       "      <td>100.000000</td>\n",
       "      <td>100.000000</td>\n",
       "      <td>100.000000</td>\n",
       "    </tr>\n",
       "  </tbody>\n",
       "</table>\n",
       "<p>5 rows × 58 columns</p>\n",
       "</div>"
      ],
      "text/plain": [
       "                            1960  1961  1962  1963  1964  1965  1966  1967  \\\n",
       "Region                                                                       \n",
       "East Asia & Pacific          NaN   NaN   NaN   NaN   NaN   NaN   NaN   NaN   \n",
       "Europe & Central Asia        NaN   NaN   NaN   NaN   NaN   NaN   NaN   NaN   \n",
       "Latin America & Caribbean    NaN   NaN   NaN   NaN   NaN   NaN   NaN   NaN   \n",
       "Middle East & North Africa   NaN   NaN   NaN   NaN   NaN   NaN   NaN   NaN   \n",
       "North America                NaN   NaN   NaN   NaN   NaN   NaN   NaN   NaN   \n",
       "\n",
       "                            1968  1969     ...            2008        2009  \\\n",
       "Region                                     ...                               \n",
       "East Asia & Pacific          NaN   NaN     ...       81.991984   81.711086   \n",
       "Europe & Central Asia        NaN   NaN     ...       99.894192   99.914233   \n",
       "Latin America & Caribbean    NaN   NaN     ...       92.411054   92.723906   \n",
       "Middle East & North Africa   NaN   NaN     ...       93.975282   94.015756   \n",
       "North America                NaN   NaN     ...      100.000000  100.000000   \n",
       "\n",
       "                                  2010        2011        2012        2013  \\\n",
       "Region                                                                       \n",
       "East Asia & Pacific          81.954970   83.857607   84.980764   85.652169   \n",
       "Europe & Central Asia        99.906119   99.938484   99.972229   99.973719   \n",
       "Latin America & Caribbean    92.752236   94.079773   94.604554   95.212376   \n",
       "Middle East & North Africa   94.317698   94.406039   94.501379   94.961666   \n",
       "North America               100.000000  100.000000  100.000000  100.000000   \n",
       "\n",
       "                                  2014        2015        2016        2017  \n",
       "Region                                                                      \n",
       "East Asia & Pacific          86.814016   88.639931   89.996176   91.619467  \n",
       "Europe & Central Asia        99.979751   99.993268   99.997941   99.987719  \n",
       "Latin America & Caribbean    95.605395   96.050948   96.500747   97.031717  \n",
       "Middle East & North Africa   94.190357   94.970712   95.051857   95.199380  \n",
       "North America               100.000000  100.000000  100.000000  100.000000  \n",
       "\n",
       "[5 rows x 58 columns]"
      ]
     },
     "execution_count": 93,
     "metadata": {},
     "output_type": "execute_result"
    }
   ],
   "source": [
    "df_elect_access.head()"
   ]
  },
  {
   "cell_type": "code",
   "execution_count": 95,
   "metadata": {
    "slideshow": {
     "slide_type": "slide"
    }
   },
   "outputs": [
    {
     "data": {
      "text/plain": [
       "<matplotlib.axes._subplots.AxesSubplot at 0x16bdb3d4550>"
      ]
     },
     "execution_count": 95,
     "metadata": {},
     "output_type": "execute_result"
    },
    {
     "data": {
      "image/png": "[encoded data removed]",
      "text/plain": [
       "<matplotlib.figure.Figure at 0x16bdb3d5ba8>"
      ]
     },
     "metadata": {},
     "output_type": "display_data"
    }
   ],
   "source": [
    "df_elect_access.T.plot(figsize=(10, 10))"
   ]
  },
  {
   "cell_type": "markdown",
   "metadata": {
    "slideshow": {
     "slide_type": "skip"
    }
   },
   "source": [
    "#"
   ]
  },
  {
   "cell_type": "markdown",
   "metadata": {
    "slideshow": {
     "slide_type": "skip"
    }
   },
   "source": [
    "-----------------------------------------------------------------\n",
    "\n",
    "# <center><u>Electric power consumption :</u></center>"
   ]
  },
  {
   "cell_type": "code",
   "execution_count": 105,
   "metadata": {
    "slideshow": {
     "slide_type": "skip"
    }
   },
   "outputs": [],
   "source": [
    "elec_pw_cm = pd.read_csv('data/API_EG.USE.ELEC.KH.PC_DS2_en_csv_v2_423773.csv', skiprows=4)"
   ]
  },
  {
   "cell_type": "code",
   "execution_count": 107,
   "metadata": {
    "slideshow": {
     "slide_type": "skip"
    }
   },
   "outputs": [
    {
     "data": {
      "text/html": [
       "<div>\n",
       "<style scoped>\n",
       "    .dataframe tbody tr th:only-of-type {\n",
       "        vertical-align: middle;\n",
       "    }\n",
       "\n",
       "    .dataframe tbody tr th {\n",
       "        vertical-align: top;\n",
       "    }\n",
       "\n",
       "    .dataframe thead th {\n",
       "        text-align: right;\n",
       "    }\n",
       "</style>\n",
       "<table border=\"1\" class=\"dataframe\">\n",
       "  <thead>\n",
       "    <tr style=\"text-align: right;\">\n",
       "      <th></th>\n",
       "      <th>Country Name</th>\n",
       "      <th>Country Code</th>\n",
       "      <th>Indicator Name</th>\n",
       "      <th>Indicator Code</th>\n",
       "      <th>1960</th>\n",
       "      <th>1961</th>\n",
       "      <th>1962</th>\n",
       "      <th>1963</th>\n",
       "      <th>1964</th>\n",
       "      <th>1965</th>\n",
       "      <th>...</th>\n",
       "      <th>2011</th>\n",
       "      <th>2012</th>\n",
       "      <th>2013</th>\n",
       "      <th>2014</th>\n",
       "      <th>2015</th>\n",
       "      <th>2016</th>\n",
       "      <th>2017</th>\n",
       "      <th>2018</th>\n",
       "      <th>2019</th>\n",
       "      <th>Unnamed: 64</th>\n",
       "    </tr>\n",
       "  </thead>\n",
       "  <tbody>\n",
       "    <tr>\n",
       "      <th>0</th>\n",
       "      <td>Aruba</td>\n",
       "      <td>ABW</td>\n",
       "      <td>Electric power consumption (kWh per capita)</td>\n",
       "      <td>EG.USE.ELEC.KH.PC</td>\n",
       "      <td>NaN</td>\n",
       "      <td>NaN</td>\n",
       "      <td>NaN</td>\n",
       "      <td>NaN</td>\n",
       "      <td>NaN</td>\n",
       "      <td>NaN</td>\n",
       "      <td>...</td>\n",
       "      <td>NaN</td>\n",
       "      <td>NaN</td>\n",
       "      <td>NaN</td>\n",
       "      <td>NaN</td>\n",
       "      <td>NaN</td>\n",
       "      <td>NaN</td>\n",
       "      <td>NaN</td>\n",
       "      <td>NaN</td>\n",
       "      <td>NaN</td>\n",
       "      <td>NaN</td>\n",
       "    </tr>\n",
       "    <tr>\n",
       "      <th>1</th>\n",
       "      <td>Afghanistan</td>\n",
       "      <td>AFG</td>\n",
       "      <td>Electric power consumption (kWh per capita)</td>\n",
       "      <td>EG.USE.ELEC.KH.PC</td>\n",
       "      <td>NaN</td>\n",
       "      <td>NaN</td>\n",
       "      <td>NaN</td>\n",
       "      <td>NaN</td>\n",
       "      <td>NaN</td>\n",
       "      <td>NaN</td>\n",
       "      <td>...</td>\n",
       "      <td>NaN</td>\n",
       "      <td>NaN</td>\n",
       "      <td>NaN</td>\n",
       "      <td>NaN</td>\n",
       "      <td>NaN</td>\n",
       "      <td>NaN</td>\n",
       "      <td>NaN</td>\n",
       "      <td>NaN</td>\n",
       "      <td>NaN</td>\n",
       "      <td>NaN</td>\n",
       "    </tr>\n",
       "    <tr>\n",
       "      <th>2</th>\n",
       "      <td>Angola</td>\n",
       "      <td>AGO</td>\n",
       "      <td>Electric power consumption (kWh per capita)</td>\n",
       "      <td>EG.USE.ELEC.KH.PC</td>\n",
       "      <td>NaN</td>\n",
       "      <td>NaN</td>\n",
       "      <td>NaN</td>\n",
       "      <td>NaN</td>\n",
       "      <td>NaN</td>\n",
       "      <td>NaN</td>\n",
       "      <td>...</td>\n",
       "      <td>207.013343</td>\n",
       "      <td>219.253430</td>\n",
       "      <td>280.214547</td>\n",
       "      <td>312.228825</td>\n",
       "      <td>NaN</td>\n",
       "      <td>NaN</td>\n",
       "      <td>NaN</td>\n",
       "      <td>NaN</td>\n",
       "      <td>NaN</td>\n",
       "      <td>NaN</td>\n",
       "    </tr>\n",
       "    <tr>\n",
       "      <th>3</th>\n",
       "      <td>Albania</td>\n",
       "      <td>ALB</td>\n",
       "      <td>Electric power consumption (kWh per capita)</td>\n",
       "      <td>EG.USE.ELEC.KH.PC</td>\n",
       "      <td>NaN</td>\n",
       "      <td>NaN</td>\n",
       "      <td>NaN</td>\n",
       "      <td>NaN</td>\n",
       "      <td>NaN</td>\n",
       "      <td>NaN</td>\n",
       "      <td>...</td>\n",
       "      <td>2205.703920</td>\n",
       "      <td>2118.327776</td>\n",
       "      <td>2533.252829</td>\n",
       "      <td>2309.366503</td>\n",
       "      <td>NaN</td>\n",
       "      <td>NaN</td>\n",
       "      <td>NaN</td>\n",
       "      <td>NaN</td>\n",
       "      <td>NaN</td>\n",
       "      <td>NaN</td>\n",
       "    </tr>\n",
       "    <tr>\n",
       "      <th>4</th>\n",
       "      <td>Andorra</td>\n",
       "      <td>AND</td>\n",
       "      <td>Electric power consumption (kWh per capita)</td>\n",
       "      <td>EG.USE.ELEC.KH.PC</td>\n",
       "      <td>NaN</td>\n",
       "      <td>NaN</td>\n",
       "      <td>NaN</td>\n",
       "      <td>NaN</td>\n",
       "      <td>NaN</td>\n",
       "      <td>NaN</td>\n",
       "      <td>...</td>\n",
       "      <td>NaN</td>\n",
       "      <td>NaN</td>\n",
       "      <td>NaN</td>\n",
       "      <td>NaN</td>\n",
       "      <td>NaN</td>\n",
       "      <td>NaN</td>\n",
       "      <td>NaN</td>\n",
       "      <td>NaN</td>\n",
       "      <td>NaN</td>\n",
       "      <td>NaN</td>\n",
       "    </tr>\n",
       "  </tbody>\n",
       "</table>\n",
       "<p>5 rows × 65 columns</p>\n",
       "</div>"
      ],
      "text/plain": [
       "  Country Name Country Code                               Indicator Name  \\\n",
       "0        Aruba          ABW  Electric power consumption (kWh per capita)   \n",
       "1  Afghanistan          AFG  Electric power consumption (kWh per capita)   \n",
       "2       Angola          AGO  Electric power consumption (kWh per capita)   \n",
       "3      Albania          ALB  Electric power consumption (kWh per capita)   \n",
       "4      Andorra          AND  Electric power consumption (kWh per capita)   \n",
       "\n",
       "      Indicator Code  1960  1961  1962  1963  1964  1965     ...       \\\n",
       "0  EG.USE.ELEC.KH.PC   NaN   NaN   NaN   NaN   NaN   NaN     ...        \n",
       "1  EG.USE.ELEC.KH.PC   NaN   NaN   NaN   NaN   NaN   NaN     ...        \n",
       "2  EG.USE.ELEC.KH.PC   NaN   NaN   NaN   NaN   NaN   NaN     ...        \n",
       "3  EG.USE.ELEC.KH.PC   NaN   NaN   NaN   NaN   NaN   NaN     ...        \n",
       "4  EG.USE.ELEC.KH.PC   NaN   NaN   NaN   NaN   NaN   NaN     ...        \n",
       "\n",
       "          2011         2012         2013         2014  2015  2016  2017  2018  \\\n",
       "0          NaN          NaN          NaN          NaN   NaN   NaN   NaN   NaN   \n",
       "1          NaN          NaN          NaN          NaN   NaN   NaN   NaN   NaN   \n",
       "2   207.013343   219.253430   280.214547   312.228825   NaN   NaN   NaN   NaN   \n",
       "3  2205.703920  2118.327776  2533.252829  2309.366503   NaN   NaN   NaN   NaN   \n",
       "4          NaN          NaN          NaN          NaN   NaN   NaN   NaN   NaN   \n",
       "\n",
       "   2019  Unnamed: 64  \n",
       "0   NaN          NaN  \n",
       "1   NaN          NaN  \n",
       "2   NaN          NaN  \n",
       "3   NaN          NaN  \n",
       "4   NaN          NaN  \n",
       "\n",
       "[5 rows x 65 columns]"
      ]
     },
     "execution_count": 107,
     "metadata": {},
     "output_type": "execute_result"
    }
   ],
   "source": [
    "elec_pw_cm.head()"
   ]
  },
  {
   "cell_type": "code",
   "execution_count": 108,
   "metadata": {
    "slideshow": {
     "slide_type": "skip"
    }
   },
   "outputs": [],
   "source": [
    "elec_pw_cm = elec_pw_cm.merge(metadata_countries, left_on='Country Code', right_on='Country Code')"
   ]
  },
  {
   "cell_type": "code",
   "execution_count": 109,
   "metadata": {
    "slideshow": {
     "slide_type": "skip"
    }
   },
   "outputs": [],
   "source": [
    "df_elec_pw_cm = elec_pw_cm.groupby(['Region']).mean().drop(['2018', '2019', 'Unnamed: 64', 'Unnamed: 5'], axis=1)"
   ]
  },
  {
   "cell_type": "code",
   "execution_count": 110,
   "metadata": {
    "slideshow": {
     "slide_type": "skip"
    }
   },
   "outputs": [
    {
     "data": {
      "text/plain": [
       "<matplotlib.axes._subplots.AxesSubplot at 0x16bdb5e73c8>"
      ]
     },
     "execution_count": 110,
     "metadata": {},
     "output_type": "execute_result"
    },
    {
     "data": {
      "image/png": "[encoded data removed]",
      "text/plain": [
       "<matplotlib.figure.Figure at 0x16bda4cd908>"
      ]
     },
     "metadata": {},
     "output_type": "display_data"
    }
   ],
   "source": [
    "df_elec_pw_cm.T.plot()"
   ]
  },
  {
   "cell_type": "markdown",
   "metadata": {
    "slideshow": {
     "slide_type": "skip"
    }
   },
   "source": [
    "# "
   ]
  },
  {
   "cell_type": "markdown",
   "metadata": {
    "slideshow": {
     "slide_type": "skip"
    }
   },
   "source": [
    "-----------------------------------------"
   ]
  },
  {
   "cell_type": "markdown",
   "metadata": {
    "slideshow": {
     "slide_type": "slide"
    }
   },
   "source": [
    "## Alternative and nuclear consumption"
   ]
  },
  {
   "cell_type": "code",
   "execution_count": 259,
   "metadata": {
    "slideshow": {
     "slide_type": "fragment"
    }
   },
   "outputs": [],
   "source": [
    "alt_cmp = pd.read_csv('data/API_EG.USE.COMM.CL.ZS_DS2_en_csv_v2_511784.csv', skiprows=4)"
   ]
  },
  {
   "cell_type": "code",
   "execution_count": 260,
   "metadata": {
    "slideshow": {
     "slide_type": "fragment"
    }
   },
   "outputs": [],
   "source": [
    "alt_cmp = alt_cmp.merge(metadata_countries, left_on='Country Code', right_on='Country Code')"
   ]
  },
  {
   "cell_type": "code",
   "execution_count": 275,
   "metadata": {
    "slideshow": {
     "slide_type": "fragment"
    }
   },
   "outputs": [],
   "source": [
    "df_alt_cmp = alt_cmp.groupby(['Region']).sum().drop(['2018', '2019', 'Unnamed: 64', 'Unnamed: 5'], axis=1)"
   ]
  },
  {
   "cell_type": "code",
   "execution_count": 280,
   "metadata": {
    "slideshow": {
     "slide_type": "slide"
    }
   },
   "outputs": [
    {
     "data": {
      "text/plain": [
       "<matplotlib.axes._subplots.AxesSubplot at 0x16be058f208>"
      ]
     },
     "execution_count": 280,
     "metadata": {},
     "output_type": "execute_result"
    },
    {
     "data": {
      "image/png": "[encoded data removed]",
      "text/plain": [
       "<matplotlib.figure.Figure at 0x16be08f6f28>"
      ]
     },
     "metadata": {},
     "output_type": "display_data"
    }
   ],
   "source": [
    "df_alt_cmp.T[:-3].plot(figsize=(10,10))"
   ]
  },
  {
   "cell_type": "code",
   "execution_count": 288,
   "metadata": {
    "slideshow": {
     "slide_type": "slide"
    }
   },
   "outputs": [],
   "source": [
    "def get_data_to_visualise(filename):\n",
    "    \n",
    "    data = pd.read_csv(filename, skiprows=4)\n",
    "    data = data.merge(metadata_countries, left_on='Country Code', right_on='Country Code')\n",
    "    data = data.groupby(['Region']).sum().drop(['2018', '2019', 'Unnamed: 64', 'Unnamed: 5'], axis=1)\n",
    "    \n",
    "    return data"
   ]
  },
  {
   "cell_type": "markdown",
   "metadata": {
    "slideshow": {
     "slide_type": "skip"
    }
   },
   "source": [
    "#"
   ]
  },
  {
   "cell_type": "markdown",
   "metadata": {
    "slideshow": {
     "slide_type": "skip"
    }
   },
   "source": [
    "-------------------------------------------------"
   ]
  },
  {
   "cell_type": "markdown",
   "metadata": {
    "slideshow": {
     "slide_type": "slide"
    }
   },
   "source": [
    "# Fuel exports "
   ]
  },
  {
   "cell_type": "code",
   "execution_count": 291,
   "metadata": {
    "slideshow": {
     "slide_type": "fragment"
    }
   },
   "outputs": [],
   "source": [
    "fuel_exports = get_data_to_visualise('data/API_TX.VAL.FUEL.ZS.UN_DS2_en_csv_v2_511909.csv')"
   ]
  },
  {
   "cell_type": "code",
   "execution_count": 295,
   "metadata": {
    "slideshow": {
     "slide_type": "fragment"
    }
   },
   "outputs": [],
   "source": [
    "fuel_exports = get_data_to_visualise('data/API_EG.USE.COMM.FO.ZS_DS2_en_csv_v2_511727.csv')"
   ]
  },
  {
   "cell_type": "code",
   "execution_count": 296,
   "metadata": {
    "slideshow": {
     "slide_type": "fragment"
    }
   },
   "outputs": [
    {
     "data": {
      "text/plain": [
       "<matplotlib.axes._subplots.AxesSubplot at 0x16be22d0ef0>"
      ]
     },
     "execution_count": 296,
     "metadata": {},
     "output_type": "execute_result"
    },
    {
     "data": {
      "image/png": "[encoded data removed]",
      "text/plain": [
       "<matplotlib.figure.Figure at 0x16be1e9c4a8>"
      ]
     },
     "metadata": {},
     "output_type": "display_data"
    }
   ],
   "source": [
    "fuel_exports.T[:-3].plot(figsize=(10,10))"
   ]
  },
  {
   "cell_type": "markdown",
   "metadata": {
    "slideshow": {
     "slide_type": "skip"
    }
   },
   "source": [
    "------------------------"
   ]
  },
  {
   "cell_type": "markdown",
   "metadata": {
    "slideshow": {
     "slide_type": "slide"
    }
   },
   "source": [
    "# RENEW PERCENTAGE ENERGY"
   ]
  },
  {
   "cell_type": "code",
   "execution_count": 289,
   "metadata": {
    "slideshow": {
     "slide_type": "fragment"
    }
   },
   "outputs": [],
   "source": [
    "rnew_prc = get_data_to_visualise('data/API_EG.ELC.RNEW.ZS_DS2_en_csv_v2_511934.csv')"
   ]
  },
  {
   "cell_type": "code",
   "execution_count": 290,
   "metadata": {
    "slideshow": {
     "slide_type": "fragment"
    }
   },
   "outputs": [
    {
     "data": {
      "text/plain": [
       "<matplotlib.axes._subplots.AxesSubplot at 0x16be1e8c048>"
      ]
     },
     "execution_count": 290,
     "metadata": {},
     "output_type": "execute_result"
    },
    {
     "data": {
      "image/png": "[encoded data removed]",
      "text/plain": [
       "<matplotlib.figure.Figure at 0x16be1e8c6a0>"
      ]
     },
     "metadata": {},
     "output_type": "display_data"
    }
   ],
   "source": [
    "rnew_prc.T[:-3].plot(figsize=(10,10))"
   ]
  },
  {
   "cell_type": "markdown",
   "metadata": {
    "slideshow": {
     "slide_type": "skip"
    }
   },
   "source": [
    "#"
   ]
  },
  {
   "cell_type": "markdown",
   "metadata": {
    "slideshow": {
     "slide_type": "slide"
    }
   },
   "source": [
    "----------------------------------------------------------------------------------------\n",
    "\n",
    "# <center><u>Start part 2: Forecast</u></center>"
   ]
  },
  {
   "cell_type": "code",
   "execution_count": 111,
   "metadata": {
    "slideshow": {
     "slide_type": "fragment"
    }
   },
   "outputs": [],
   "source": [
    "import numpy as np\n",
    "from sklearn.linear_model import LinearRegression"
   ]
  },
  {
   "cell_type": "code",
   "execution_count": 128,
   "metadata": {
    "slideshow": {
     "slide_type": "fragment"
    }
   },
   "outputs": [],
   "source": [
    "Y = df_elect_access.T.mean(axis=1)"
   ]
  },
  {
   "cell_type": "code",
   "execution_count": 167,
   "metadata": {
    "slideshow": {
     "slide_type": "fragment"
    }
   },
   "outputs": [],
   "source": [
    "target = Y[int(len(Y)/1.80):]"
   ]
  },
  {
   "cell_type": "code",
   "execution_count": 169,
   "metadata": {
    "slideshow": {
     "slide_type": "slide"
    }
   },
   "outputs": [
    {
     "data": {
      "text/plain": [
       "[<matplotlib.lines.Line2D at 0x16bdeffe470>]"
      ]
     },
     "execution_count": 169,
     "metadata": {},
     "output_type": "execute_result"
    },
    {
     "data": {
      "image/png": "[encoded data removed]",
      "text/plain": [
       "<matplotlib.figure.Figure at 0x16bdef92828>"
      ]
     },
     "metadata": {},
     "output_type": "display_data"
    }
   ],
   "source": [
    "plt.plot(target)"
   ]
  },
  {
   "cell_type": "code",
   "execution_count": 184,
   "metadata": {
    "slideshow": {
     "slide_type": "fragment"
    }
   },
   "outputs": [],
   "source": [
    "population_region = pd.read_csv('data/population_region.csv')"
   ]
  },
  {
   "cell_type": "code",
   "execution_count": 188,
   "metadata": {
    "slideshow": {
     "slide_type": "fragment"
    }
   },
   "outputs": [],
   "source": [
    "population_region = population_region.set_index('Unnamed: 0')"
   ]
  },
  {
   "cell_type": "code",
   "execution_count": 204,
   "metadata": {
    "slideshow": {
     "slide_type": "skip"
    }
   },
   "outputs": [
    {
     "data": {
      "text/plain": [
       "array([ 1,  4,  9, 16])"
      ]
     },
     "execution_count": 204,
     "metadata": {},
     "output_type": "execute_result"
    }
   ],
   "source": [
    "np.array([1, 2, 3, 4]) * np.array([1, 2, 3, 4]) "
   ]
  },
  {
   "cell_type": "code",
   "execution_count": 200,
   "metadata": {
    "scrolled": true,
    "slideshow": {
     "slide_type": "skip"
    }
   },
   "outputs": [
    {
     "data": {
      "text/plain": [
       "Unnamed: 0\n",
       "1960    1.030256e+09\n",
       "1961    1.033472e+09\n",
       "1962    1.047566e+09\n",
       "1963    1.072954e+09\n",
       "1964    1.097973e+09\n",
       "1965    1.124042e+09\n",
       "1966    1.153532e+09\n",
       "1967    1.182061e+09\n",
       "1968    1.210984e+09\n",
       "1969    1.243401e+09\n",
       "1970    1.275813e+09\n",
       "1971    1.309172e+09\n",
       "1972    1.340715e+09\n",
       "1973    1.370684e+09\n",
       "1974    1.400473e+09\n",
       "1975    1.427285e+09\n",
       "1976    1.451169e+09\n",
       "1977    1.473719e+09\n",
       "1978    1.496186e+09\n",
       "1979    1.519063e+09\n",
       "1980    1.541491e+09\n",
       "1981    1.564760e+09\n",
       "1982    1.590324e+09\n",
       "1983    1.615887e+09\n",
       "1984    1.640202e+09\n",
       "1985    1.665104e+09\n",
       "1986    1.691579e+09\n",
       "1987    1.719455e+09\n",
       "1988    1.747590e+09\n",
       "1989    1.775104e+09\n",
       "1990    1.801915e+09\n",
       "1991    1.827719e+09\n",
       "1992    1.851795e+09\n",
       "1993    1.875024e+09\n",
       "1994    1.898282e+09\n",
       "1995    1.921173e+09\n",
       "1996    1.943722e+09\n",
       "1997    1.965715e+09\n",
       "1998    1.986872e+09\n",
       "1999    2.006642e+09\n",
       "2000    2.025468e+09\n",
       "2001    2.043573e+09\n",
       "2002    2.060729e+09\n",
       "2003    2.077048e+09\n",
       "2004    2.092818e+09\n",
       "2005    2.108424e+09\n",
       "2006    2.123929e+09\n",
       "2007    2.138884e+09\n",
       "2008    2.154125e+09\n",
       "2009    2.168990e+09\n",
       "2010    2.183746e+09\n",
       "2011    2.198493e+09\n",
       "2012    2.213557e+09\n",
       "2013    2.228703e+09\n",
       "2014    2.244090e+09\n",
       "2015    2.259394e+09\n",
       "2016    2.275006e+09\n",
       "2017    2.290650e+09\n",
       "Name: East Asia & Pacific, dtype: float64"
      ]
     },
     "execution_count": 200,
     "metadata": {},
     "output_type": "execute_result"
    }
   ],
   "source": [
    "population_region['East Asia & Pacific'][0:-1]"
   ]
  },
  {
   "cell_type": "code",
   "execution_count": 207,
   "metadata": {
    "slideshow": {
     "slide_type": "skip"
    }
   },
   "outputs": [],
   "source": [
    "for region in df_elect_access.T.columns :\n",
    "    elect_pop = population_region[region] * df_elect_access.T[region]"
   ]
  },
  {
   "cell_type": "code",
   "execution_count": 171,
   "metadata": {
    "slideshow": {
     "slide_type": "skip"
    }
   },
   "outputs": [],
   "source": [
    "X = np.array(df_elect_access.T.index).reshape(-1, 1)[-len(target):]"
   ]
  },
  {
   "cell_type": "code",
   "execution_count": 172,
   "metadata": {
    "slideshow": {
     "slide_type": "skip"
    }
   },
   "outputs": [],
   "source": [
    "reg = LinearRegression().fit(X, target)"
   ]
  },
  {
   "cell_type": "code",
   "execution_count": 182,
   "metadata": {
    "slideshow": {
     "slide_type": "skip"
    }
   },
   "outputs": [],
   "source": [
    "pred = reg.predict(test)"
   ]
  },
  {
   "cell_type": "code",
   "execution_count": 183,
   "metadata": {
    "slideshow": {
     "slide_type": "skip"
    }
   },
   "outputs": [
    {
     "data": {
      "text/plain": [
       "array([ 89.4609816 ,  90.16362912,  90.86627664,  91.56892416,\n",
       "        92.27157168,  92.97421921,  93.67686673,  94.37951425,\n",
       "        95.08216177,  95.78480929,  96.48745681,  97.19010434,\n",
       "        97.89275186,  98.59539938,  99.2980469 , 100.00069442,\n",
       "       100.70334194, 101.40598947, 102.10863699, 102.81128451,\n",
       "       103.51393203, 104.21657955, 104.91922707, 105.6218746 ,\n",
       "       106.32452212, 107.02716964, 107.72981716, 108.43246468,\n",
       "       109.1351122 , 109.83775972, 110.54040725])"
      ]
     },
     "execution_count": 183,
     "metadata": {},
     "output_type": "execute_result"
    }
   ],
   "source": [
    "pred"
   ]
  },
  {
   "cell_type": "code",
   "execution_count": 244,
   "metadata": {
    "slideshow": {
     "slide_type": "skip"
    }
   },
   "outputs": [],
   "source": [
    "test_years = np.arange(2019, 2050).reshape(-1, 1)"
   ]
  },
  {
   "cell_type": "code",
   "execution_count": 246,
   "metadata": {
    "scrolled": true,
    "slideshow": {
     "slide_type": "skip"
    }
   },
   "outputs": [
    {
     "data": {
      "text/plain": [
       "array([[2019],\n",
       "       [2020],\n",
       "       [2021],\n",
       "       [2022],\n",
       "       [2023],\n",
       "       [2024],\n",
       "       [2025],\n",
       "       [2026],\n",
       "       [2027],\n",
       "       [2028],\n",
       "       [2029],\n",
       "       [2030],\n",
       "       [2031],\n",
       "       [2032],\n",
       "       [2033],\n",
       "       [2034],\n",
       "       [2035],\n",
       "       [2036],\n",
       "       [2037],\n",
       "       [2038],\n",
       "       [2039],\n",
       "       [2040],\n",
       "       [2041],\n",
       "       [2042],\n",
       "       [2043],\n",
       "       [2044],\n",
       "       [2045],\n",
       "       [2046],\n",
       "       [2047],\n",
       "       [2048],\n",
       "       [2049]])"
      ]
     },
     "execution_count": 246,
     "metadata": {},
     "output_type": "execute_result"
    }
   ],
   "source": [
    "test_years"
   ]
  },
  {
   "cell_type": "code",
   "execution_count": null,
   "metadata": {
    "slideshow": {
     "slide_type": "skip"
    }
   },
   "outputs": [],
   "source": []
  },
  {
   "cell_type": "markdown",
   "metadata": {
    "slideshow": {
     "slide_type": "skip"
    }
   },
   "source": [
    "### GDP per capita"
   ]
  },
  {
   "cell_type": "code",
   "execution_count": 250,
   "metadata": {
    "slideshow": {
     "slide_type": "skip"
    }
   },
   "outputs": [],
   "source": [
    "df_gdp_per_cap.to_csv('data/dsp_per_cap.csv')"
   ]
  },
  {
   "cell_type": "code",
   "execution_count": 256,
   "metadata": {
    "slideshow": {
     "slide_type": "skip"
    }
   },
   "outputs": [],
   "source": [
    "X_gdp = np.array(df_gdp_per_cap.T.index).reshape(-1, 1)"
   ]
  },
  {
   "cell_type": "code",
   "execution_count": 258,
   "metadata": {
    "slideshow": {
     "slide_type": "skip"
    }
   },
   "outputs": [
    {
     "data": {
      "text/html": [
       "<div>\n",
       "<style scoped>\n",
       "    .dataframe tbody tr th:only-of-type {\n",
       "        vertical-align: middle;\n",
       "    }\n",
       "\n",
       "    .dataframe tbody tr th {\n",
       "        vertical-align: top;\n",
       "    }\n",
       "\n",
       "    .dataframe thead th {\n",
       "        text-align: right;\n",
       "    }\n",
       "</style>\n",
       "<table border=\"1\" class=\"dataframe\">\n",
       "  <thead>\n",
       "    <tr style=\"text-align: right;\">\n",
       "      <th></th>\n",
       "      <th>1960</th>\n",
       "      <th>1961</th>\n",
       "      <th>1962</th>\n",
       "      <th>1963</th>\n",
       "      <th>1964</th>\n",
       "      <th>1965</th>\n",
       "      <th>1966</th>\n",
       "      <th>1967</th>\n",
       "      <th>1968</th>\n",
       "      <th>1969</th>\n",
       "      <th>...</th>\n",
       "      <th>2009</th>\n",
       "      <th>2010</th>\n",
       "      <th>2011</th>\n",
       "      <th>2012</th>\n",
       "      <th>2013</th>\n",
       "      <th>2014</th>\n",
       "      <th>2015</th>\n",
       "      <th>2016</th>\n",
       "      <th>2017</th>\n",
       "      <th>2018</th>\n",
       "    </tr>\n",
       "    <tr>\n",
       "      <th>Region</th>\n",
       "      <th></th>\n",
       "      <th></th>\n",
       "      <th></th>\n",
       "      <th></th>\n",
       "      <th></th>\n",
       "      <th></th>\n",
       "      <th></th>\n",
       "      <th></th>\n",
       "      <th></th>\n",
       "      <th></th>\n",
       "      <th></th>\n",
       "      <th></th>\n",
       "      <th></th>\n",
       "      <th></th>\n",
       "      <th></th>\n",
       "      <th></th>\n",
       "      <th></th>\n",
       "      <th></th>\n",
       "      <th></th>\n",
       "      <th></th>\n",
       "      <th></th>\n",
       "    </tr>\n",
       "  </thead>\n",
       "  <tbody>\n",
       "    <tr>\n",
       "      <th>East Asia &amp; Pacific</th>\n",
       "      <td>522.624813</td>\n",
       "      <td>533.937254</td>\n",
       "      <td>544.951222</td>\n",
       "      <td>592.145607</td>\n",
       "      <td>634.790004</td>\n",
       "      <td>796.316505</td>\n",
       "      <td>849.709028</td>\n",
       "      <td>804.373900</td>\n",
       "      <td>858.909366</td>\n",
       "      <td>920.105829</td>\n",
       "      <td>...</td>\n",
       "      <td>11517.670362</td>\n",
       "      <td>13298.665824</td>\n",
       "      <td>15332.885241</td>\n",
       "      <td>16332.057612</td>\n",
       "      <td>16684.012118</td>\n",
       "      <td>16763.902823</td>\n",
       "      <td>15434.630572</td>\n",
       "      <td>15517.729996</td>\n",
       "      <td>16482.449989</td>\n",
       "      <td>16510.399708</td>\n",
       "    </tr>\n",
       "    <tr>\n",
       "      <th>Europe &amp; Central Asia</th>\n",
       "      <td>1150.292790</td>\n",
       "      <td>1218.420568</td>\n",
       "      <td>1311.685986</td>\n",
       "      <td>1421.599902</td>\n",
       "      <td>1590.503651</td>\n",
       "      <td>1730.067063</td>\n",
       "      <td>1873.189837</td>\n",
       "      <td>1974.352931</td>\n",
       "      <td>2013.470538</td>\n",
       "      <td>2192.322484</td>\n",
       "      <td>...</td>\n",
       "      <td>30594.573082</td>\n",
       "      <td>30908.387552</td>\n",
       "      <td>33909.944243</td>\n",
       "      <td>32089.480655</td>\n",
       "      <td>34107.082513</td>\n",
       "      <td>35082.975616</td>\n",
       "      <td>30850.869561</td>\n",
       "      <td>31238.590241</td>\n",
       "      <td>28329.985460</td>\n",
       "      <td>27159.064196</td>\n",
       "    </tr>\n",
       "    <tr>\n",
       "      <th>Latin America &amp; Caribbean</th>\n",
       "      <td>396.673866</td>\n",
       "      <td>415.127294</td>\n",
       "      <td>466.399424</td>\n",
       "      <td>473.590122</td>\n",
       "      <td>509.994628</td>\n",
       "      <td>516.001997</td>\n",
       "      <td>545.009019</td>\n",
       "      <td>562.877151</td>\n",
       "      <td>581.856093</td>\n",
       "      <td>638.406977</td>\n",
       "      <td>...</td>\n",
       "      <td>9627.737157</td>\n",
       "      <td>10246.638009</td>\n",
       "      <td>11052.646899</td>\n",
       "      <td>11319.298502</td>\n",
       "      <td>11484.794785</td>\n",
       "      <td>11738.649036</td>\n",
       "      <td>11611.104311</td>\n",
       "      <td>11579.845692</td>\n",
       "      <td>13105.703282</td>\n",
       "      <td>10029.996664</td>\n",
       "    </tr>\n",
       "    <tr>\n",
       "      <th>Middle East &amp; North Africa</th>\n",
       "      <td>375.088016</td>\n",
       "      <td>408.704145</td>\n",
       "      <td>355.665333</td>\n",
       "      <td>396.433251</td>\n",
       "      <td>430.377669</td>\n",
       "      <td>784.423575</td>\n",
       "      <td>804.185981</td>\n",
       "      <td>774.244552</td>\n",
       "      <td>761.499350</td>\n",
       "      <td>788.926413</td>\n",
       "      <td>...</td>\n",
       "      <td>13877.869220</td>\n",
       "      <td>15238.238677</td>\n",
       "      <td>17294.100111</td>\n",
       "      <td>18233.010938</td>\n",
       "      <td>18262.322062</td>\n",
       "      <td>17914.787434</td>\n",
       "      <td>14890.415134</td>\n",
       "      <td>14428.033153</td>\n",
       "      <td>15315.010092</td>\n",
       "      <td>17209.974086</td>\n",
       "    </tr>\n",
       "    <tr>\n",
       "      <th>North America</th>\n",
       "      <td>2454.762782</td>\n",
       "      <td>2434.174770</td>\n",
       "      <td>2522.410576</td>\n",
       "      <td>2601.767681</td>\n",
       "      <td>2789.181213</td>\n",
       "      <td>2974.045130</td>\n",
       "      <td>3290.167252</td>\n",
       "      <td>3528.381335</td>\n",
       "      <td>3680.441402</td>\n",
       "      <td>3968.968603</td>\n",
       "      <td>...</td>\n",
       "      <td>58778.784939</td>\n",
       "      <td>61374.823135</td>\n",
       "      <td>62652.689496</td>\n",
       "      <td>63201.433145</td>\n",
       "      <td>63786.543630</td>\n",
       "      <td>52934.234588</td>\n",
       "      <td>50149.263410</td>\n",
       "      <td>50092.051392</td>\n",
       "      <td>52498.928544</td>\n",
       "      <td>54425.781096</td>\n",
       "    </tr>\n",
       "    <tr>\n",
       "      <th>South Asia</th>\n",
       "      <td>84.413563</td>\n",
       "      <td>87.579749</td>\n",
       "      <td>88.618436</td>\n",
       "      <td>89.917488</td>\n",
       "      <td>94.658274</td>\n",
       "      <td>110.417746</td>\n",
       "      <td>116.509821</td>\n",
       "      <td>125.261603</td>\n",
       "      <td>119.349317</td>\n",
       "      <td>125.363513</td>\n",
       "      <td>...</td>\n",
       "      <td>1783.727659</td>\n",
       "      <td>2056.543370</td>\n",
       "      <td>2236.640516</td>\n",
       "      <td>2260.120459</td>\n",
       "      <td>2383.025157</td>\n",
       "      <td>2546.142616</td>\n",
       "      <td>2661.101017</td>\n",
       "      <td>2750.711892</td>\n",
       "      <td>2970.772733</td>\n",
       "      <td>3052.478261</td>\n",
       "    </tr>\n",
       "    <tr>\n",
       "      <th>Sub-Saharan Africa</th>\n",
       "      <td>141.326953</td>\n",
       "      <td>145.937695</td>\n",
       "      <td>148.077933</td>\n",
       "      <td>156.525596</td>\n",
       "      <td>163.291646</td>\n",
       "      <td>178.603988</td>\n",
       "      <td>183.834669</td>\n",
       "      <td>180.177353</td>\n",
       "      <td>185.842615</td>\n",
       "      <td>198.871866</td>\n",
       "      <td>...</td>\n",
       "      <td>2067.099001</td>\n",
       "      <td>2308.663257</td>\n",
       "      <td>2663.719664</td>\n",
       "      <td>2689.905602</td>\n",
       "      <td>2705.135009</td>\n",
       "      <td>2707.893783</td>\n",
       "      <td>2283.738707</td>\n",
       "      <td>2194.331701</td>\n",
       "      <td>2407.446906</td>\n",
       "      <td>2507.301090</td>\n",
       "    </tr>\n",
       "  </tbody>\n",
       "</table>\n",
       "<p>7 rows × 59 columns</p>\n",
       "</div>"
      ],
      "text/plain": [
       "                                   1960         1961         1962  \\\n",
       "Region                                                              \n",
       "East Asia & Pacific          522.624813   533.937254   544.951222   \n",
       "Europe & Central Asia       1150.292790  1218.420568  1311.685986   \n",
       "Latin America & Caribbean    396.673866   415.127294   466.399424   \n",
       "Middle East & North Africa   375.088016   408.704145   355.665333   \n",
       "North America               2454.762782  2434.174770  2522.410576   \n",
       "South Asia                    84.413563    87.579749    88.618436   \n",
       "Sub-Saharan Africa           141.326953   145.937695   148.077933   \n",
       "\n",
       "                                   1963         1964         1965  \\\n",
       "Region                                                              \n",
       "East Asia & Pacific          592.145607   634.790004   796.316505   \n",
       "Europe & Central Asia       1421.599902  1590.503651  1730.067063   \n",
       "Latin America & Caribbean    473.590122   509.994628   516.001997   \n",
       "Middle East & North Africa   396.433251   430.377669   784.423575   \n",
       "North America               2601.767681  2789.181213  2974.045130   \n",
       "South Asia                    89.917488    94.658274   110.417746   \n",
       "Sub-Saharan Africa           156.525596   163.291646   178.603988   \n",
       "\n",
       "                                   1966         1967         1968  \\\n",
       "Region                                                              \n",
       "East Asia & Pacific          849.709028   804.373900   858.909366   \n",
       "Europe & Central Asia       1873.189837  1974.352931  2013.470538   \n",
       "Latin America & Caribbean    545.009019   562.877151   581.856093   \n",
       "Middle East & North Africa   804.185981   774.244552   761.499350   \n",
       "North America               3290.167252  3528.381335  3680.441402   \n",
       "South Asia                   116.509821   125.261603   119.349317   \n",
       "Sub-Saharan Africa           183.834669   180.177353   185.842615   \n",
       "\n",
       "                                   1969      ...               2009  \\\n",
       "Region                                       ...                      \n",
       "East Asia & Pacific          920.105829      ...       11517.670362   \n",
       "Europe & Central Asia       2192.322484      ...       30594.573082   \n",
       "Latin America & Caribbean    638.406977      ...        9627.737157   \n",
       "Middle East & North Africa   788.926413      ...       13877.869220   \n",
       "North America               3968.968603      ...       58778.784939   \n",
       "South Asia                   125.363513      ...        1783.727659   \n",
       "Sub-Saharan Africa           198.871866      ...        2067.099001   \n",
       "\n",
       "                                    2010          2011          2012  \\\n",
       "Region                                                                 \n",
       "East Asia & Pacific         13298.665824  15332.885241  16332.057612   \n",
       "Europe & Central Asia       30908.387552  33909.944243  32089.480655   \n",
       "Latin America & Caribbean   10246.638009  11052.646899  11319.298502   \n",
       "Middle East & North Africa  15238.238677  17294.100111  18233.010938   \n",
       "North America               61374.823135  62652.689496  63201.433145   \n",
       "South Asia                   2056.543370   2236.640516   2260.120459   \n",
       "Sub-Saharan Africa           2308.663257   2663.719664   2689.905602   \n",
       "\n",
       "                                    2013          2014          2015  \\\n",
       "Region                                                                 \n",
       "East Asia & Pacific         16684.012118  16763.902823  15434.630572   \n",
       "Europe & Central Asia       34107.082513  35082.975616  30850.869561   \n",
       "Latin America & Caribbean   11484.794785  11738.649036  11611.104311   \n",
       "Middle East & North Africa  18262.322062  17914.787434  14890.415134   \n",
       "North America               63786.543630  52934.234588  50149.263410   \n",
       "South Asia                   2383.025157   2546.142616   2661.101017   \n",
       "Sub-Saharan Africa           2705.135009   2707.893783   2283.738707   \n",
       "\n",
       "                                    2016          2017          2018  \n",
       "Region                                                                \n",
       "East Asia & Pacific         15517.729996  16482.449989  16510.399708  \n",
       "Europe & Central Asia       31238.590241  28329.985460  27159.064196  \n",
       "Latin America & Caribbean   11579.845692  13105.703282  10029.996664  \n",
       "Middle East & North Africa  14428.033153  15315.010092  17209.974086  \n",
       "North America               50092.051392  52498.928544  54425.781096  \n",
       "South Asia                   2750.711892   2970.772733   3052.478261  \n",
       "Sub-Saharan Africa           2194.331701   2407.446906   2507.301090  \n",
       "\n",
       "[7 rows x 59 columns]"
      ]
     },
     "execution_count": 258,
     "metadata": {},
     "output_type": "execute_result"
    }
   ],
   "source": [
    "df_gdp_per_cap"
   ]
  },
  {
   "cell_type": "code",
   "execution_count": 249,
   "metadata": {
    "slideshow": {
     "slide_type": "skip"
    }
   },
   "outputs": [
    {
     "data": {
      "text/plain": [
       "59"
      ]
     },
     "execution_count": 249,
     "metadata": {},
     "output_type": "execute_result"
    }
   ],
   "source": [
    "len(x)"
   ]
  },
  {
   "cell_type": "code",
   "execution_count": null,
   "metadata": {
    "slideshow": {
     "slide_type": "skip"
    }
   },
   "outputs": [],
   "source": [
    "X_gdp = np.array(df_gdp_per_cap.T.index).reshape(-1, 1)\n",
    "Y_gdp = df_gdp_per_cap.T.mean(axis=1)\n",
    "test_years = np.arange(2019, 2050).reshape(-1, 1)\n",
    "\n",
    "reg_gdp = LinearRegression().fit(X_gdp, Y_gdp)\n",
    "predict_gdp = reg_gdp.predict(test_years)"
   ]
  },
  {
   "cell_type": "code",
   "execution_count": 247,
   "metadata": {
    "slideshow": {
     "slide_type": "skip"
    }
   },
   "outputs": [],
   "source": [
    "x = df_gdp_per_cap.T.index"
   ]
  },
  {
   "cell_type": "code",
   "execution_count": 251,
   "metadata": {
    "slideshow": {
     "slide_type": "skip"
    }
   },
   "outputs": [],
   "source": [
    "X_gdp = np.array(df_gdp_per_cap.T.index).reshape(-1, 1)"
   ]
  },
  {
   "cell_type": "code",
   "execution_count": 252,
   "metadata": {
    "slideshow": {
     "slide_type": "skip"
    }
   },
   "outputs": [],
   "source": [
    "Y_gdp = df_gdp_per_cap.T.mean(axis=1)"
   ]
  },
  {
   "cell_type": "code",
   "execution_count": 253,
   "metadata": {
    "slideshow": {
     "slide_type": "skip"
    }
   },
   "outputs": [
    {
     "data": {
      "text/plain": [
       "[<matplotlib.lines.Line2D at 0x16bdf1aada0>]"
      ]
     },
     "execution_count": 253,
     "metadata": {},
     "output_type": "execute_result"
    },
    {
     "data": {
      "image/png": "[encoded data removed]",
      "text/plain": [
       "<matplotlib.figure.Figure at 0x16bdf493c18>"
      ]
     },
     "metadata": {},
     "output_type": "display_data"
    }
   ],
   "source": [
    "plt.plot(Y_gdp)"
   ]
  },
  {
   "cell_type": "code",
   "execution_count": 254,
   "metadata": {
    "slideshow": {
     "slide_type": "skip"
    }
   },
   "outputs": [],
   "source": [
    "reg_gdp = LinearRegression().fit(X_gdp, Y_gdp)"
   ]
  },
  {
   "cell_type": "code",
   "execution_count": 255,
   "metadata": {
    "slideshow": {
     "slide_type": "skip"
    }
   },
   "outputs": [],
   "source": [
    "predict_gdp = reg_gdp.predict(test_years)"
   ]
  },
  {
   "cell_type": "code",
   "execution_count": 235,
   "metadata": {
    "slideshow": {
     "slide_type": "skip"
    }
   },
   "outputs": [],
   "source": [
    "b = np.array(Y)"
   ]
  },
  {
   "cell_type": "code",
   "execution_count": 238,
   "metadata": {
    "slideshow": {
     "slide_type": "skip"
    }
   },
   "outputs": [],
   "source": [
    "a = list(b) + list(predict_gdp)"
   ]
  },
  {
   "cell_type": "code",
   "execution_count": 236,
   "metadata": {
    "slideshow": {
     "slide_type": "skip"
    }
   },
   "outputs": [
    {
     "data": {
      "text/plain": [
       "array([20276.58366602, 20656.24012027, 21035.89657452, 21415.55302877,\n",
       "       21795.20948301, 22174.86593726, 22554.52239151, 22934.17884576,\n",
       "       23313.83530001, 23693.49175426, 24073.1482085 , 24452.80466275,\n",
       "       24832.461117  , 25212.11757125, 25591.7740255 , 25971.43047975,\n",
       "       26351.08693399, 26730.74338824, 27110.39984249, 27490.05629674,\n",
       "       27869.71275099, 28249.36920524, 28629.02565948, 29008.68211373,\n",
       "       29388.33856798, 29767.99502223, 30147.65147648, 30527.30793072,\n",
       "       30906.96438497, 31286.62083922, 31666.27729347])"
      ]
     },
     "execution_count": 236,
     "metadata": {},
     "output_type": "execute_result"
    }
   ],
   "source": [
    "predict_gdp"
   ]
  },
  {
   "cell_type": "code",
   "execution_count": 304,
   "metadata": {
    "slideshow": {
     "slide_type": "skip"
    }
   },
   "outputs": [],
   "source": [
    "x1 = np.arange(0, len(b))\n",
    "x2 = np.arange(len(b)-1, len(b) + len(predict_gdp))"
   ]
  },
  {
   "cell_type": "code",
   "execution_count": null,
   "metadata": {
    "slideshow": {
     "slide_type": "skip"
    }
   },
   "outputs": [],
   "source": [
    "plt.plot(x1, list(b), color='tab:orange')\n",
    "plt.plot(x2, list(predict_gdp), color='tab:blue')\n",
    "plt.show()\n"
   ]
  },
  {
   "cell_type": "code",
   "execution_count": null,
   "metadata": {},
   "outputs": [],
   "source": []
  }
 ],
 "metadata": {
  "celltoolbar": "Slideshow",
  "kernelspec": {
   "display_name": "Python 3",
   "language": "python",
   "name": "python3"
  },
  "language_info": {
   "codemirror_mode": {
    "name": "ipython",
    "version": 3
   },
   "file_extension": ".py",
   "mimetype": "text/x-python",
   "name": "python",
   "nbconvert_exporter": "python",
   "pygments_lexer": "ipython3",
   "version": "3.6.4"
  }
 },
 "nbformat": 4,
 "nbformat_minor": 2
}
