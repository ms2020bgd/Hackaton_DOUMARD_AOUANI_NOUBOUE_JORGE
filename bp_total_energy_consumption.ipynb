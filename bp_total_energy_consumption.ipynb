{
 "cells": [
  {
   "cell_type": "code",
   "execution_count": 34,
   "metadata": {},
   "outputs": [],
   "source": [
    "import pandas as pd\n",
    "\n",
    "df = (pd.read_excel(\"bp_review_2018.xlsx\",sheet_name = \"Primary Energy Consumption\",skiprows=2)\n",
    "      .dropna(axis=0,subset=[1965]))\n"
   ]
  },
  {
   "cell_type": "code",
   "execution_count": 68,
   "metadata": {},
   "outputs": [],
   "source": [
    "df_primary = (df[~df[\"Million tonnes oil equivalent\"].str.contains(\"Total|OECD|Asia|European\")].iloc[:,:-5]\n",
    "              .rename(columns ={\"Million tonnes oil equivalent\":\"Country\"})\n",
    "              .set_index(\"Country\"))"
   ]
  },
  {
   "cell_type": "code",
   "execution_count": 71,
   "metadata": {},
   "outputs": [
    {
     "data": {
      "text/plain": [
       "Index(['Canada', 'Mexico', 'US', 'Argentina', 'Brazil', 'Chile', 'Colombia',\n",
       "       'Ecuador', 'Peru', 'Trinidad & Tobago', 'Venezuela', 'Central America',\n",
       "       'Other Caribbean', 'Other South America', 'Austria', 'Belgium',\n",
       "       'Bulgaria', 'Cyprus', 'Czech Republic', 'Denmark', 'Finland', 'France',\n",
       "       'Germany', 'Greece', 'Hungary', 'Iceland', 'Ireland', 'Italy',\n",
       "       'Luxembourg', 'Netherlands', 'Norway', 'Poland', 'Portugal', 'Romania',\n",
       "       'Slovakia', 'Spain', 'Sweden', 'Switzerland', 'Turkey',\n",
       "       'United Kingdom', 'Other Europe', 'USSR', 'Iran', 'Iraq', 'Israel',\n",
       "       'Kuwait', 'Oman', 'Qatar', 'Saudi Arabia', 'United Arab Emirates',\n",
       "       'Other Middle East', 'Algeria', 'Egypt', 'Morocco', 'South Africa',\n",
       "       'Eastern Africa', 'Middle Africa', 'Western Africa',\n",
       "       'Other Northern Africa', 'Other Southern Africa', 'Australia', 'China',\n",
       "       'China Hong Kong SAR', 'India', 'Indonesia', 'Japan', 'Malaysia',\n",
       "       'New Zealand', 'Pakistan', 'Philippines', 'Singapore', 'South Korea',\n",
       "       'Sri Lanka', 'Taiwan', 'Thailand', 'Vietnam'],\n",
       "      dtype='object', name='Country')"
      ]
     },
     "execution_count": 71,
     "metadata": {},
     "output_type": "execute_result"
    }
   ],
   "source": [
    "df_primary.index"
   ]
  }
 ],
 "metadata": {
  "kernelspec": {
   "display_name": "Python 3",
   "language": "python",
   "name": "python3"
  },
  "language_info": {
   "codemirror_mode": {
    "name": "ipython",
    "version": 3
   },
   "file_extension": ".py",
   "mimetype": "text/x-python",
   "name": "python",
   "nbconvert_exporter": "python",
   "pygments_lexer": "ipython3",
   "version": "3.7.3"
  }
 },
 "nbformat": 4,
 "nbformat_minor": 2
}
